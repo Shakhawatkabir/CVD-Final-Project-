{
 "cells": [
  {
   "cell_type": "markdown",
   "id": "7858fa28",
   "metadata": {},
   "source": [
    "# **HEART DISEASE ANALYSIS** "
   ]
  },
  {
   "cell_type": "markdown",
   "metadata": {},
   "source": [
    "In this project, we will analyze [Cardiovascular Disease dataset](https://www.kaggle.com/sulianova/cardiovascular-disease-dataset) to find which variables are related to the disease. Then we will use different machine learning models to predict whether the patient has  cardiovascular disease or not. <br>The dataset contains information about patients doing cardiovascular disease examination.<br><br>\n",
    "**Data features:**\n",
    "   - Age | Objective Feature | age | int (days)<br>\n",
    "   - Height | Objective Feature | height | int (cm) |<br>\n",
    "   - Weight | Objective Feature | weight | float (kg) |<br>\n",
    "   - Gender | Objective Feature | gender | categorical code |<br>\n",
    "   - Systolic blood pressure | Examination Feature | ap_hi | int |<br>\n",
    "   - Diastolic blood pressure | Examination Feature | ap_lo | int |<br>\n",
    "   - Cholesterol | Examination Feature | cholesterol | 1: normal, 2: above normal, 3: well above normal |<br>\n",
    "   - Glucose | Examination Feature | gluc | 1: normal, 2: above normal, 3: well above normal |<br>\n",
    "   - Smoking | Subjective Feature | smoke | binary |<br>\n",
    "   - Alcohol intake | Subjective Feature | alco | binary |<br>\n",
    "   - Physical activity | Subjective Feature | active | binary |<br>\n",
    "   - Presence or absence of cardiovascular disease | Target Variable | cardio | binary |<br>\n"
   ]
  },
  {
   "cell_type": "code",
   "execution_count": 554,
   "id": "635c4fd3",
   "metadata": {},
   "outputs": [],
   "source": [
    "#loading dataset\n",
    "import pandas as pd\n",
    "import numpy as np\n",
    "\n",
    "#visualisation\n",
    "import matplotlib.pyplot as plt\n",
    "import seaborn as sns\n",
    "# data preprocessing\n",
    "from sklearn.preprocessing import StandardScaler\n",
    "\n",
    "# data splitting\n",
    "from sklearn.model_selection import train_test_split\n",
    "\n",
    "# data modeling\n",
    "from sklearn.metrics import confusion_matrix\n",
    "from sklearn.metrics import accuracy_score\n",
    "from sklearn.metrics import roc_curve\n",
    "from sklearn.metrics import classification_report\n",
    "from sklearn.metrics import roc_auc_score\n",
    "\n",
    "# All Model`s\n",
    "from sklearn.linear_model import LogisticRegression\n",
    "from sklearn.neighbors import KNeighborsClassifier\n",
    "from sklearn.svm import SVC\n",
    "from sklearn.ensemble import RandomForestClassifier\n",
    "from sklearn.tree import DecisionTreeClassifier\n",
    "from xgboost import XGBClassifier\n",
    "from sklearn.naive_bayes import GaussianNB"
   ]
  },
  {
   "cell_type": "code",
   "execution_count": 555,
   "id": "7a33c9a8",
   "metadata": {},
   "outputs": [],
   "source": [
    "data = pd.read_csv(r\"C:\\Users\\Md.Shakhawat Kabir\\OneDrive - bsmrstu.edu.bd\\Desktop\\cvd\\HEART-DISEASE-ANALYSIS 70k DATA\\cardio_train.csv\")"
   ]
  },
  {
   "cell_type": "code",
   "execution_count": 556,
   "metadata": {},
   "outputs": [
    {
     "data": {
      "text/html": [
       "<div>\n",
       "<style scoped>\n",
       "    .dataframe tbody tr th:only-of-type {\n",
       "        vertical-align: middle;\n",
       "    }\n",
       "\n",
       "    .dataframe tbody tr th {\n",
       "        vertical-align: top;\n",
       "    }\n",
       "\n",
       "    .dataframe thead th {\n",
       "        text-align: right;\n",
       "    }\n",
       "</style>\n",
       "<table border=\"1\" class=\"dataframe\">\n",
       "  <thead>\n",
       "    <tr style=\"text-align: right;\">\n",
       "      <th></th>\n",
       "      <th>id</th>\n",
       "      <th>age</th>\n",
       "      <th>gender</th>\n",
       "      <th>height</th>\n",
       "      <th>weight</th>\n",
       "      <th>ap_hi</th>\n",
       "      <th>ap_lo</th>\n",
       "      <th>cholesterol</th>\n",
       "      <th>gluc</th>\n",
       "      <th>smoke</th>\n",
       "      <th>alco</th>\n",
       "      <th>active</th>\n",
       "      <th>cardio</th>\n",
       "    </tr>\n",
       "  </thead>\n",
       "  <tbody>\n",
       "    <tr>\n",
       "      <th>0</th>\n",
       "      <td>0</td>\n",
       "      <td>18393</td>\n",
       "      <td>2</td>\n",
       "      <td>168</td>\n",
       "      <td>62.00</td>\n",
       "      <td>110</td>\n",
       "      <td>80</td>\n",
       "      <td>1</td>\n",
       "      <td>1</td>\n",
       "      <td>0</td>\n",
       "      <td>0</td>\n",
       "      <td>1</td>\n",
       "      <td>0</td>\n",
       "    </tr>\n",
       "    <tr>\n",
       "      <th>1</th>\n",
       "      <td>1</td>\n",
       "      <td>20228</td>\n",
       "      <td>1</td>\n",
       "      <td>156</td>\n",
       "      <td>85.00</td>\n",
       "      <td>140</td>\n",
       "      <td>90</td>\n",
       "      <td>3</td>\n",
       "      <td>1</td>\n",
       "      <td>0</td>\n",
       "      <td>0</td>\n",
       "      <td>1</td>\n",
       "      <td>1</td>\n",
       "    </tr>\n",
       "    <tr>\n",
       "      <th>2</th>\n",
       "      <td>2</td>\n",
       "      <td>18857</td>\n",
       "      <td>1</td>\n",
       "      <td>165</td>\n",
       "      <td>64.00</td>\n",
       "      <td>130</td>\n",
       "      <td>70</td>\n",
       "      <td>3</td>\n",
       "      <td>1</td>\n",
       "      <td>0</td>\n",
       "      <td>0</td>\n",
       "      <td>0</td>\n",
       "      <td>1</td>\n",
       "    </tr>\n",
       "    <tr>\n",
       "      <th>3</th>\n",
       "      <td>3</td>\n",
       "      <td>17623</td>\n",
       "      <td>2</td>\n",
       "      <td>169</td>\n",
       "      <td>82.00</td>\n",
       "      <td>150</td>\n",
       "      <td>100</td>\n",
       "      <td>1</td>\n",
       "      <td>1</td>\n",
       "      <td>0</td>\n",
       "      <td>0</td>\n",
       "      <td>1</td>\n",
       "      <td>1</td>\n",
       "    </tr>\n",
       "    <tr>\n",
       "      <th>4</th>\n",
       "      <td>4</td>\n",
       "      <td>17474</td>\n",
       "      <td>1</td>\n",
       "      <td>156</td>\n",
       "      <td>56.00</td>\n",
       "      <td>100</td>\n",
       "      <td>60</td>\n",
       "      <td>1</td>\n",
       "      <td>1</td>\n",
       "      <td>0</td>\n",
       "      <td>0</td>\n",
       "      <td>0</td>\n",
       "      <td>0</td>\n",
       "    </tr>\n",
       "    <tr>\n",
       "      <th>...</th>\n",
       "      <td>...</td>\n",
       "      <td>...</td>\n",
       "      <td>...</td>\n",
       "      <td>...</td>\n",
       "      <td>...</td>\n",
       "      <td>...</td>\n",
       "      <td>...</td>\n",
       "      <td>...</td>\n",
       "      <td>...</td>\n",
       "      <td>...</td>\n",
       "      <td>...</td>\n",
       "      <td>...</td>\n",
       "      <td>...</td>\n",
       "    </tr>\n",
       "    <tr>\n",
       "      <th>69995</th>\n",
       "      <td>99993</td>\n",
       "      <td>19240</td>\n",
       "      <td>2</td>\n",
       "      <td>168</td>\n",
       "      <td>76.00</td>\n",
       "      <td>120</td>\n",
       "      <td>80</td>\n",
       "      <td>1</td>\n",
       "      <td>1</td>\n",
       "      <td>1</td>\n",
       "      <td>0</td>\n",
       "      <td>1</td>\n",
       "      <td>0</td>\n",
       "    </tr>\n",
       "    <tr>\n",
       "      <th>69996</th>\n",
       "      <td>99995</td>\n",
       "      <td>22601</td>\n",
       "      <td>1</td>\n",
       "      <td>158</td>\n",
       "      <td>126.00</td>\n",
       "      <td>140</td>\n",
       "      <td>90</td>\n",
       "      <td>2</td>\n",
       "      <td>2</td>\n",
       "      <td>0</td>\n",
       "      <td>0</td>\n",
       "      <td>1</td>\n",
       "      <td>1</td>\n",
       "    </tr>\n",
       "    <tr>\n",
       "      <th>69997</th>\n",
       "      <td>99996</td>\n",
       "      <td>19066</td>\n",
       "      <td>2</td>\n",
       "      <td>183</td>\n",
       "      <td>105.00</td>\n",
       "      <td>180</td>\n",
       "      <td>90</td>\n",
       "      <td>3</td>\n",
       "      <td>1</td>\n",
       "      <td>0</td>\n",
       "      <td>1</td>\n",
       "      <td>0</td>\n",
       "      <td>1</td>\n",
       "    </tr>\n",
       "    <tr>\n",
       "      <th>69998</th>\n",
       "      <td>99998</td>\n",
       "      <td>22431</td>\n",
       "      <td>1</td>\n",
       "      <td>163</td>\n",
       "      <td>72.00</td>\n",
       "      <td>135</td>\n",
       "      <td>80</td>\n",
       "      <td>1</td>\n",
       "      <td>2</td>\n",
       "      <td>0</td>\n",
       "      <td>0</td>\n",
       "      <td>0</td>\n",
       "      <td>1</td>\n",
       "    </tr>\n",
       "    <tr>\n",
       "      <th>69999</th>\n",
       "      <td>99999</td>\n",
       "      <td>20540</td>\n",
       "      <td>1</td>\n",
       "      <td>170</td>\n",
       "      <td>72.00</td>\n",
       "      <td>120</td>\n",
       "      <td>80</td>\n",
       "      <td>2</td>\n",
       "      <td>1</td>\n",
       "      <td>0</td>\n",
       "      <td>0</td>\n",
       "      <td>1</td>\n",
       "      <td>0</td>\n",
       "    </tr>\n",
       "  </tbody>\n",
       "</table>\n",
       "<p>70000 rows × 13 columns</p>\n",
       "</div>"
      ],
      "text/plain": [
       "          id    age  gender  height  weight  ap_hi  ap_lo  cholesterol  gluc  \\\n",
       "0          0  18393       2     168   62.00    110     80            1     1   \n",
       "1          1  20228       1     156   85.00    140     90            3     1   \n",
       "2          2  18857       1     165   64.00    130     70            3     1   \n",
       "3          3  17623       2     169   82.00    150    100            1     1   \n",
       "4          4  17474       1     156   56.00    100     60            1     1   \n",
       "...      ...    ...     ...     ...     ...    ...    ...          ...   ...   \n",
       "69995  99993  19240       2     168   76.00    120     80            1     1   \n",
       "69996  99995  22601       1     158  126.00    140     90            2     2   \n",
       "69997  99996  19066       2     183  105.00    180     90            3     1   \n",
       "69998  99998  22431       1     163   72.00    135     80            1     2   \n",
       "69999  99999  20540       1     170   72.00    120     80            2     1   \n",
       "\n",
       "       smoke  alco  active  cardio  \n",
       "0          0     0       1       0  \n",
       "1          0     0       1       1  \n",
       "2          0     0       0       1  \n",
       "3          0     0       1       1  \n",
       "4          0     0       0       0  \n",
       "...      ...   ...     ...     ...  \n",
       "69995      1     0       1       0  \n",
       "69996      0     0       1       1  \n",
       "69997      0     1       0       1  \n",
       "69998      0     0       0       1  \n",
       "69999      0     0       1       0  \n",
       "\n",
       "[70000 rows x 13 columns]"
      ]
     },
     "execution_count": 556,
     "metadata": {},
     "output_type": "execute_result"
    }
   ],
   "source": [
    "data"
   ]
  },
  {
   "cell_type": "code",
   "execution_count": 557,
   "metadata": {},
   "outputs": [],
   "source": [
    "data['bmi'] = data['weight']/((data['height']/100)**2)\n",
    "data['bmi'] = data['bmi'].round(1)\n",
    "\n",
    "data['age_year'] = data['age']/365\n",
    "data['age_year'] = data['age_year'].astype(int)"
   ]
  },
  {
   "cell_type": "code",
   "execution_count": 558,
   "metadata": {},
   "outputs": [],
   "source": [
    "data.drop(['id', 'age', 'height', 'weight'], axis=1, inplace=True)"
   ]
  },
  {
   "cell_type": "code",
   "execution_count": 559,
   "metadata": {},
   "outputs": [
    {
     "data": {
      "text/html": [
       "<div>\n",
       "<style scoped>\n",
       "    .dataframe tbody tr th:only-of-type {\n",
       "        vertical-align: middle;\n",
       "    }\n",
       "\n",
       "    .dataframe tbody tr th {\n",
       "        vertical-align: top;\n",
       "    }\n",
       "\n",
       "    .dataframe thead th {\n",
       "        text-align: right;\n",
       "    }\n",
       "</style>\n",
       "<table border=\"1\" class=\"dataframe\">\n",
       "  <thead>\n",
       "    <tr style=\"text-align: right;\">\n",
       "      <th></th>\n",
       "      <th>gender</th>\n",
       "      <th>ap_hi</th>\n",
       "      <th>ap_lo</th>\n",
       "      <th>cholesterol</th>\n",
       "      <th>gluc</th>\n",
       "      <th>smoke</th>\n",
       "      <th>alco</th>\n",
       "      <th>active</th>\n",
       "      <th>cardio</th>\n",
       "      <th>bmi</th>\n",
       "      <th>age_year</th>\n",
       "    </tr>\n",
       "  </thead>\n",
       "  <tbody>\n",
       "    <tr>\n",
       "      <th>0</th>\n",
       "      <td>2</td>\n",
       "      <td>110</td>\n",
       "      <td>80</td>\n",
       "      <td>1</td>\n",
       "      <td>1</td>\n",
       "      <td>0</td>\n",
       "      <td>0</td>\n",
       "      <td>1</td>\n",
       "      <td>0</td>\n",
       "      <td>22.00</td>\n",
       "      <td>50</td>\n",
       "    </tr>\n",
       "    <tr>\n",
       "      <th>1</th>\n",
       "      <td>1</td>\n",
       "      <td>140</td>\n",
       "      <td>90</td>\n",
       "      <td>3</td>\n",
       "      <td>1</td>\n",
       "      <td>0</td>\n",
       "      <td>0</td>\n",
       "      <td>1</td>\n",
       "      <td>1</td>\n",
       "      <td>34.90</td>\n",
       "      <td>55</td>\n",
       "    </tr>\n",
       "    <tr>\n",
       "      <th>2</th>\n",
       "      <td>1</td>\n",
       "      <td>130</td>\n",
       "      <td>70</td>\n",
       "      <td>3</td>\n",
       "      <td>1</td>\n",
       "      <td>0</td>\n",
       "      <td>0</td>\n",
       "      <td>0</td>\n",
       "      <td>1</td>\n",
       "      <td>23.50</td>\n",
       "      <td>51</td>\n",
       "    </tr>\n",
       "    <tr>\n",
       "      <th>3</th>\n",
       "      <td>2</td>\n",
       "      <td>150</td>\n",
       "      <td>100</td>\n",
       "      <td>1</td>\n",
       "      <td>1</td>\n",
       "      <td>0</td>\n",
       "      <td>0</td>\n",
       "      <td>1</td>\n",
       "      <td>1</td>\n",
       "      <td>28.70</td>\n",
       "      <td>48</td>\n",
       "    </tr>\n",
       "    <tr>\n",
       "      <th>4</th>\n",
       "      <td>1</td>\n",
       "      <td>100</td>\n",
       "      <td>60</td>\n",
       "      <td>1</td>\n",
       "      <td>1</td>\n",
       "      <td>0</td>\n",
       "      <td>0</td>\n",
       "      <td>0</td>\n",
       "      <td>0</td>\n",
       "      <td>23.00</td>\n",
       "      <td>47</td>\n",
       "    </tr>\n",
       "    <tr>\n",
       "      <th>...</th>\n",
       "      <td>...</td>\n",
       "      <td>...</td>\n",
       "      <td>...</td>\n",
       "      <td>...</td>\n",
       "      <td>...</td>\n",
       "      <td>...</td>\n",
       "      <td>...</td>\n",
       "      <td>...</td>\n",
       "      <td>...</td>\n",
       "      <td>...</td>\n",
       "      <td>...</td>\n",
       "    </tr>\n",
       "    <tr>\n",
       "      <th>69995</th>\n",
       "      <td>2</td>\n",
       "      <td>120</td>\n",
       "      <td>80</td>\n",
       "      <td>1</td>\n",
       "      <td>1</td>\n",
       "      <td>1</td>\n",
       "      <td>0</td>\n",
       "      <td>1</td>\n",
       "      <td>0</td>\n",
       "      <td>26.90</td>\n",
       "      <td>52</td>\n",
       "    </tr>\n",
       "    <tr>\n",
       "      <th>69996</th>\n",
       "      <td>1</td>\n",
       "      <td>140</td>\n",
       "      <td>90</td>\n",
       "      <td>2</td>\n",
       "      <td>2</td>\n",
       "      <td>0</td>\n",
       "      <td>0</td>\n",
       "      <td>1</td>\n",
       "      <td>1</td>\n",
       "      <td>50.50</td>\n",
       "      <td>61</td>\n",
       "    </tr>\n",
       "    <tr>\n",
       "      <th>69997</th>\n",
       "      <td>2</td>\n",
       "      <td>180</td>\n",
       "      <td>90</td>\n",
       "      <td>3</td>\n",
       "      <td>1</td>\n",
       "      <td>0</td>\n",
       "      <td>1</td>\n",
       "      <td>0</td>\n",
       "      <td>1</td>\n",
       "      <td>31.40</td>\n",
       "      <td>52</td>\n",
       "    </tr>\n",
       "    <tr>\n",
       "      <th>69998</th>\n",
       "      <td>1</td>\n",
       "      <td>135</td>\n",
       "      <td>80</td>\n",
       "      <td>1</td>\n",
       "      <td>2</td>\n",
       "      <td>0</td>\n",
       "      <td>0</td>\n",
       "      <td>0</td>\n",
       "      <td>1</td>\n",
       "      <td>27.10</td>\n",
       "      <td>61</td>\n",
       "    </tr>\n",
       "    <tr>\n",
       "      <th>69999</th>\n",
       "      <td>1</td>\n",
       "      <td>120</td>\n",
       "      <td>80</td>\n",
       "      <td>2</td>\n",
       "      <td>1</td>\n",
       "      <td>0</td>\n",
       "      <td>0</td>\n",
       "      <td>1</td>\n",
       "      <td>0</td>\n",
       "      <td>24.90</td>\n",
       "      <td>56</td>\n",
       "    </tr>\n",
       "  </tbody>\n",
       "</table>\n",
       "<p>70000 rows × 11 columns</p>\n",
       "</div>"
      ],
      "text/plain": [
       "       gender  ap_hi  ap_lo  cholesterol  gluc  smoke  alco  active  cardio  \\\n",
       "0           2    110     80            1     1      0     0       1       0   \n",
       "1           1    140     90            3     1      0     0       1       1   \n",
       "2           1    130     70            3     1      0     0       0       1   \n",
       "3           2    150    100            1     1      0     0       1       1   \n",
       "4           1    100     60            1     1      0     0       0       0   \n",
       "...       ...    ...    ...          ...   ...    ...   ...     ...     ...   \n",
       "69995       2    120     80            1     1      1     0       1       0   \n",
       "69996       1    140     90            2     2      0     0       1       1   \n",
       "69997       2    180     90            3     1      0     1       0       1   \n",
       "69998       1    135     80            1     2      0     0       0       1   \n",
       "69999       1    120     80            2     1      0     0       1       0   \n",
       "\n",
       "        bmi  age_year  \n",
       "0     22.00        50  \n",
       "1     34.90        55  \n",
       "2     23.50        51  \n",
       "3     28.70        48  \n",
       "4     23.00        47  \n",
       "...     ...       ...  \n",
       "69995 26.90        52  \n",
       "69996 50.50        61  \n",
       "69997 31.40        52  \n",
       "69998 27.10        61  \n",
       "69999 24.90        56  \n",
       "\n",
       "[70000 rows x 11 columns]"
      ]
     },
     "execution_count": 559,
     "metadata": {},
     "output_type": "execute_result"
    }
   ],
   "source": [
    "data"
   ]
  },
  {
   "cell_type": "code",
   "execution_count": 560,
   "metadata": {},
   "outputs": [
    {
     "data": {
      "text/html": [
       "<div>\n",
       "<style scoped>\n",
       "    .dataframe tbody tr th:only-of-type {\n",
       "        vertical-align: middle;\n",
       "    }\n",
       "\n",
       "    .dataframe tbody tr th {\n",
       "        vertical-align: top;\n",
       "    }\n",
       "\n",
       "    .dataframe thead th {\n",
       "        text-align: right;\n",
       "    }\n",
       "</style>\n",
       "<table border=\"1\" class=\"dataframe\">\n",
       "  <thead>\n",
       "    <tr style=\"text-align: right;\">\n",
       "      <th></th>\n",
       "      <th>gender</th>\n",
       "      <th>ap_hi</th>\n",
       "      <th>ap_lo</th>\n",
       "      <th>cholesterol</th>\n",
       "      <th>gluc</th>\n",
       "      <th>smoke</th>\n",
       "      <th>alco</th>\n",
       "      <th>active</th>\n",
       "      <th>cardio</th>\n",
       "      <th>bmi</th>\n",
       "      <th>age_year</th>\n",
       "    </tr>\n",
       "  </thead>\n",
       "  <tbody>\n",
       "    <tr>\n",
       "      <th>count</th>\n",
       "      <td>70000.00</td>\n",
       "      <td>70000.00</td>\n",
       "      <td>70000.00</td>\n",
       "      <td>70000.00</td>\n",
       "      <td>70000.00</td>\n",
       "      <td>70000.00</td>\n",
       "      <td>70000.00</td>\n",
       "      <td>70000.00</td>\n",
       "      <td>70000.00</td>\n",
       "      <td>70000.00</td>\n",
       "      <td>70000.00</td>\n",
       "    </tr>\n",
       "    <tr>\n",
       "      <th>mean</th>\n",
       "      <td>1.35</td>\n",
       "      <td>128.82</td>\n",
       "      <td>96.63</td>\n",
       "      <td>1.37</td>\n",
       "      <td>1.23</td>\n",
       "      <td>0.09</td>\n",
       "      <td>0.05</td>\n",
       "      <td>0.80</td>\n",
       "      <td>0.50</td>\n",
       "      <td>27.56</td>\n",
       "      <td>52.84</td>\n",
       "    </tr>\n",
       "    <tr>\n",
       "      <th>std</th>\n",
       "      <td>0.48</td>\n",
       "      <td>154.01</td>\n",
       "      <td>188.47</td>\n",
       "      <td>0.68</td>\n",
       "      <td>0.57</td>\n",
       "      <td>0.28</td>\n",
       "      <td>0.23</td>\n",
       "      <td>0.40</td>\n",
       "      <td>0.50</td>\n",
       "      <td>6.09</td>\n",
       "      <td>6.77</td>\n",
       "    </tr>\n",
       "    <tr>\n",
       "      <th>min</th>\n",
       "      <td>1.00</td>\n",
       "      <td>-150.00</td>\n",
       "      <td>-70.00</td>\n",
       "      <td>1.00</td>\n",
       "      <td>1.00</td>\n",
       "      <td>0.00</td>\n",
       "      <td>0.00</td>\n",
       "      <td>0.00</td>\n",
       "      <td>0.00</td>\n",
       "      <td>3.50</td>\n",
       "      <td>29.00</td>\n",
       "    </tr>\n",
       "    <tr>\n",
       "      <th>25%</th>\n",
       "      <td>1.00</td>\n",
       "      <td>120.00</td>\n",
       "      <td>80.00</td>\n",
       "      <td>1.00</td>\n",
       "      <td>1.00</td>\n",
       "      <td>0.00</td>\n",
       "      <td>0.00</td>\n",
       "      <td>1.00</td>\n",
       "      <td>0.00</td>\n",
       "      <td>23.90</td>\n",
       "      <td>48.00</td>\n",
       "    </tr>\n",
       "    <tr>\n",
       "      <th>50%</th>\n",
       "      <td>1.00</td>\n",
       "      <td>120.00</td>\n",
       "      <td>80.00</td>\n",
       "      <td>1.00</td>\n",
       "      <td>1.00</td>\n",
       "      <td>0.00</td>\n",
       "      <td>0.00</td>\n",
       "      <td>1.00</td>\n",
       "      <td>0.00</td>\n",
       "      <td>26.40</td>\n",
       "      <td>53.00</td>\n",
       "    </tr>\n",
       "    <tr>\n",
       "      <th>75%</th>\n",
       "      <td>2.00</td>\n",
       "      <td>140.00</td>\n",
       "      <td>90.00</td>\n",
       "      <td>2.00</td>\n",
       "      <td>1.00</td>\n",
       "      <td>0.00</td>\n",
       "      <td>0.00</td>\n",
       "      <td>1.00</td>\n",
       "      <td>1.00</td>\n",
       "      <td>30.20</td>\n",
       "      <td>58.00</td>\n",
       "    </tr>\n",
       "    <tr>\n",
       "      <th>max</th>\n",
       "      <td>2.00</td>\n",
       "      <td>16020.00</td>\n",
       "      <td>11000.00</td>\n",
       "      <td>3.00</td>\n",
       "      <td>3.00</td>\n",
       "      <td>1.00</td>\n",
       "      <td>1.00</td>\n",
       "      <td>1.00</td>\n",
       "      <td>1.00</td>\n",
       "      <td>298.70</td>\n",
       "      <td>64.00</td>\n",
       "    </tr>\n",
       "  </tbody>\n",
       "</table>\n",
       "</div>"
      ],
      "text/plain": [
       "        gender    ap_hi    ap_lo  cholesterol     gluc    smoke     alco  \\\n",
       "count 70000.00 70000.00 70000.00     70000.00 70000.00 70000.00 70000.00   \n",
       "mean      1.35   128.82    96.63         1.37     1.23     0.09     0.05   \n",
       "std       0.48   154.01   188.47         0.68     0.57     0.28     0.23   \n",
       "min       1.00  -150.00   -70.00         1.00     1.00     0.00     0.00   \n",
       "25%       1.00   120.00    80.00         1.00     1.00     0.00     0.00   \n",
       "50%       1.00   120.00    80.00         1.00     1.00     0.00     0.00   \n",
       "75%       2.00   140.00    90.00         2.00     1.00     0.00     0.00   \n",
       "max       2.00 16020.00 11000.00         3.00     3.00     1.00     1.00   \n",
       "\n",
       "        active   cardio      bmi  age_year  \n",
       "count 70000.00 70000.00 70000.00  70000.00  \n",
       "mean      0.80     0.50    27.56     52.84  \n",
       "std       0.40     0.50     6.09      6.77  \n",
       "min       0.00     0.00     3.50     29.00  \n",
       "25%       1.00     0.00    23.90     48.00  \n",
       "50%       1.00     0.00    26.40     53.00  \n",
       "75%       1.00     1.00    30.20     58.00  \n",
       "max       1.00     1.00   298.70     64.00  "
      ]
     },
     "execution_count": 560,
     "metadata": {},
     "output_type": "execute_result"
    }
   ],
   "source": [
    "data.describe()"
   ]
  },
  {
   "cell_type": "code",
   "execution_count": 561,
   "metadata": {},
   "outputs": [
    {
     "name": "stdout",
     "output_type": "stream",
     "text": [
      "<class 'pandas.core.frame.DataFrame'>\n",
      "RangeIndex: 70000 entries, 0 to 69999\n",
      "Data columns (total 11 columns):\n",
      " #   Column       Non-Null Count  Dtype  \n",
      "---  ------       --------------  -----  \n",
      " 0   gender       70000 non-null  int64  \n",
      " 1   ap_hi        70000 non-null  int64  \n",
      " 2   ap_lo        70000 non-null  int64  \n",
      " 3   cholesterol  70000 non-null  int64  \n",
      " 4   gluc         70000 non-null  int64  \n",
      " 5   smoke        70000 non-null  int64  \n",
      " 6   alco         70000 non-null  int64  \n",
      " 7   active       70000 non-null  int64  \n",
      " 8   cardio       70000 non-null  int64  \n",
      " 9   bmi          70000 non-null  float64\n",
      " 10  age_year     70000 non-null  int32  \n",
      "dtypes: float64(1), int32(1), int64(9)\n",
      "memory usage: 5.6 MB\n"
     ]
    }
   ],
   "source": [
    "data.info()"
   ]
  },
  {
   "cell_type": "code",
   "execution_count": 562,
   "metadata": {},
   "outputs": [
    {
     "data": {
      "text/plain": [
       "0    35021\n",
       "1    34979\n",
       "Name: cardio, dtype: int64"
      ]
     },
     "execution_count": 562,
     "metadata": {},
     "output_type": "execute_result"
    }
   ],
   "source": [
    "data.cardio.value_counts()"
   ]
  },
  {
   "cell_type": "code",
   "execution_count": 563,
   "metadata": {},
   "outputs": [
    {
     "name": "stdout",
     "output_type": "stream",
     "text": [
      "9167 rows are same\n"
     ]
    }
   ],
   "source": [
    "print(\"{} rows are same\".format(data.duplicated().sum()))"
   ]
  },
  {
   "cell_type": "code",
   "execution_count": 564,
   "metadata": {},
   "outputs": [
    {
     "name": "stdout",
     "output_type": "stream",
     "text": [
      "0 rows are same\n"
     ]
    }
   ],
   "source": [
    "data.drop_duplicates(inplace= True)\n",
    "print(\"{} rows are same\".format(data.duplicated().sum()))"
   ]
  },
  {
   "cell_type": "code",
   "execution_count": 565,
   "metadata": {},
   "outputs": [
    {
     "data": {
      "image/png": "[encoded data removed]",
      "text/plain": [
       "<Figure size 1008x576 with 2 Axes>"
      ]
     },
     "metadata": {},
     "output_type": "display_data"
    }
   ],
   "source": [
    "plt.figure(figsize=(14,8))\n",
    "plt.subplot(1,2,1)\n",
    "sns.boxplot(x='cardio',y='age_year',data=data,palette='winter')\n",
    "plt.subplot(1,2,2)\n",
    "sns.boxplot(x='cardio',y='bmi',data=data,palette='summer')\n",
    "plt.show()"
   ]
  },
  {
   "cell_type": "code",
   "execution_count": 566,
   "metadata": {},
   "outputs": [
    {
     "data": {
      "image/png": "[encoded data removed]",
      "text/plain": [
       "<Figure size 1008x576 with 2 Axes>"
      ]
     },
     "metadata": {},
     "output_type": "display_data"
    }
   ],
   "source": [
    "plt.figure(figsize=(14,8))\n",
    "plt.subplot(1,2,1)\n",
    "sns.boxplot(x='cardio',y='ap_hi',data=data,palette='winter')\n",
    "plt.subplot(1,2,2)\n",
    "sns.boxplot(x='cardio',y='ap_lo',data=data,palette='summer')\n",
    "plt.show()"
   ]
  },
  {
   "cell_type": "code",
   "execution_count": 567,
   "metadata": {},
   "outputs": [],
   "source": [
    "df_c0 = data[data['cardio'] == 0]"
   ]
  },
  {
   "cell_type": "code",
   "execution_count": 568,
   "metadata": {},
   "outputs": [
    {
     "data": {
      "text/html": [
       "<div>\n",
       "<style scoped>\n",
       "    .dataframe tbody tr th:only-of-type {\n",
       "        vertical-align: middle;\n",
       "    }\n",
       "\n",
       "    .dataframe tbody tr th {\n",
       "        vertical-align: top;\n",
       "    }\n",
       "\n",
       "    .dataframe thead th {\n",
       "        text-align: right;\n",
       "    }\n",
       "</style>\n",
       "<table border=\"1\" class=\"dataframe\">\n",
       "  <thead>\n",
       "    <tr style=\"text-align: right;\">\n",
       "      <th></th>\n",
       "      <th>ap_lo</th>\n",
       "      <th>ap_hi</th>\n",
       "      <th>bmi</th>\n",
       "      <th>age_year</th>\n",
       "    </tr>\n",
       "  </thead>\n",
       "  <tbody>\n",
       "    <tr>\n",
       "      <th>Q minimo</th>\n",
       "      <td>55.00</td>\n",
       "      <td>95.00</td>\n",
       "      <td>14.15</td>\n",
       "      <td>29.50</td>\n",
       "    </tr>\n",
       "    <tr>\n",
       "      <th>Q maximo</th>\n",
       "      <td>95.00</td>\n",
       "      <td>135.00</td>\n",
       "      <td>38.55</td>\n",
       "      <td>73.50</td>\n",
       "    </tr>\n",
       "  </tbody>\n",
       "</table>\n",
       "</div>"
      ],
      "text/plain": [
       "          ap_lo  ap_hi   bmi  age_year\n",
       "Q minimo  55.00  95.00 14.15     29.50\n",
       "Q maximo  95.00 135.00 38.55     73.50"
      ]
     },
     "execution_count": 568,
     "metadata": {},
     "output_type": "execute_result"
    }
   ],
   "source": [
    "lista = ['ap_lo', 'ap_hi', 'bmi',\"age_year\"]\n",
    "df_quartil = pd.DataFrame(index=['Q minimo', 'Q maximo'])\n",
    "\n",
    "for e in lista:\n",
    "    Q1 = df_c0[e].quantile(0.25)\n",
    "    Q3 = df_c0[e].quantile(0.75)\n",
    "    IQR = Q3 - Q1\n",
    "    \n",
    "    minimo = Q1 - (1.5 * IQR)\n",
    "    maximo = Q3+ (1.5 * IQR)\n",
    "    \n",
    "    df_quartil[e]= [minimo, maximo]\n",
    "    \n",
    "df_quartil"
   ]
  },
  {
   "cell_type": "code",
   "execution_count": 569,
   "metadata": {},
   "outputs": [
    {
     "name": "stderr",
     "output_type": "stream",
     "text": [
      "C:\\Users\\Md.Shakhawat Kabir\\AppData\\Roaming\\Python\\Python39\\site-packages\\pandas\\core\\frame.py:4906: SettingWithCopyWarning: \n",
      "A value is trying to be set on a copy of a slice from a DataFrame\n",
      "\n",
      "See the caveats in the documentation: https://pandas.pydata.org/pandas-docs/stable/user_guide/indexing.html#returning-a-view-versus-a-copy\n",
      "  return super().drop(\n"
     ]
    }
   ],
   "source": [
    "outlier_c0 = df_c0[(df_c0['ap_lo']!=80)|(df_c0['ap_hi']>120)|(df_c0['ap_hi']<120)|(df_c0['age_year']>70)|(df_c0['age_year']<30)| (df_c0['bmi']>33)|(df_c0['bmi']<18)].index\n",
    "df_c0.drop(outlier_c0, inplace=True)"
   ]
  },
  {
   "cell_type": "code",
   "execution_count": 570,
   "metadata": {},
   "outputs": [
    {
     "data": {
      "text/html": [
       "<div>\n",
       "<style scoped>\n",
       "    .dataframe tbody tr th:only-of-type {\n",
       "        vertical-align: middle;\n",
       "    }\n",
       "\n",
       "    .dataframe tbody tr th {\n",
       "        vertical-align: top;\n",
       "    }\n",
       "\n",
       "    .dataframe thead th {\n",
       "        text-align: right;\n",
       "    }\n",
       "</style>\n",
       "<table border=\"1\" class=\"dataframe\">\n",
       "  <thead>\n",
       "    <tr style=\"text-align: right;\">\n",
       "      <th></th>\n",
       "      <th>gender</th>\n",
       "      <th>ap_hi</th>\n",
       "      <th>ap_lo</th>\n",
       "      <th>cholesterol</th>\n",
       "      <th>gluc</th>\n",
       "      <th>smoke</th>\n",
       "      <th>alco</th>\n",
       "      <th>active</th>\n",
       "      <th>cardio</th>\n",
       "      <th>bmi</th>\n",
       "      <th>age_year</th>\n",
       "    </tr>\n",
       "  </thead>\n",
       "  <tbody>\n",
       "    <tr>\n",
       "      <th>count</th>\n",
       "      <td>8639.00</td>\n",
       "      <td>8639.00</td>\n",
       "      <td>8639.00</td>\n",
       "      <td>8639.00</td>\n",
       "      <td>8639.00</td>\n",
       "      <td>8639.00</td>\n",
       "      <td>8639.00</td>\n",
       "      <td>8639.00</td>\n",
       "      <td>8639.00</td>\n",
       "      <td>8639.00</td>\n",
       "      <td>8639.00</td>\n",
       "    </tr>\n",
       "    <tr>\n",
       "      <th>mean</th>\n",
       "      <td>1.46</td>\n",
       "      <td>120.00</td>\n",
       "      <td>80.00</td>\n",
       "      <td>1.23</td>\n",
       "      <td>1.22</td>\n",
       "      <td>0.14</td>\n",
       "      <td>0.08</td>\n",
       "      <td>0.76</td>\n",
       "      <td>0.00</td>\n",
       "      <td>25.56</td>\n",
       "      <td>51.19</td>\n",
       "    </tr>\n",
       "    <tr>\n",
       "      <th>std</th>\n",
       "      <td>0.50</td>\n",
       "      <td>0.00</td>\n",
       "      <td>0.00</td>\n",
       "      <td>0.54</td>\n",
       "      <td>0.58</td>\n",
       "      <td>0.34</td>\n",
       "      <td>0.26</td>\n",
       "      <td>0.43</td>\n",
       "      <td>0.00</td>\n",
       "      <td>3.27</td>\n",
       "      <td>6.91</td>\n",
       "    </tr>\n",
       "    <tr>\n",
       "      <th>min</th>\n",
       "      <td>1.00</td>\n",
       "      <td>120.00</td>\n",
       "      <td>80.00</td>\n",
       "      <td>1.00</td>\n",
       "      <td>1.00</td>\n",
       "      <td>0.00</td>\n",
       "      <td>0.00</td>\n",
       "      <td>0.00</td>\n",
       "      <td>0.00</td>\n",
       "      <td>18.00</td>\n",
       "      <td>39.00</td>\n",
       "    </tr>\n",
       "    <tr>\n",
       "      <th>25%</th>\n",
       "      <td>1.00</td>\n",
       "      <td>120.00</td>\n",
       "      <td>80.00</td>\n",
       "      <td>1.00</td>\n",
       "      <td>1.00</td>\n",
       "      <td>0.00</td>\n",
       "      <td>0.00</td>\n",
       "      <td>1.00</td>\n",
       "      <td>0.00</td>\n",
       "      <td>23.20</td>\n",
       "      <td>46.00</td>\n",
       "    </tr>\n",
       "    <tr>\n",
       "      <th>50%</th>\n",
       "      <td>1.00</td>\n",
       "      <td>120.00</td>\n",
       "      <td>80.00</td>\n",
       "      <td>1.00</td>\n",
       "      <td>1.00</td>\n",
       "      <td>0.00</td>\n",
       "      <td>0.00</td>\n",
       "      <td>1.00</td>\n",
       "      <td>0.00</td>\n",
       "      <td>25.20</td>\n",
       "      <td>52.00</td>\n",
       "    </tr>\n",
       "    <tr>\n",
       "      <th>75%</th>\n",
       "      <td>2.00</td>\n",
       "      <td>120.00</td>\n",
       "      <td>80.00</td>\n",
       "      <td>1.00</td>\n",
       "      <td>1.00</td>\n",
       "      <td>0.00</td>\n",
       "      <td>0.00</td>\n",
       "      <td>1.00</td>\n",
       "      <td>0.00</td>\n",
       "      <td>27.80</td>\n",
       "      <td>57.00</td>\n",
       "    </tr>\n",
       "    <tr>\n",
       "      <th>max</th>\n",
       "      <td>2.00</td>\n",
       "      <td>120.00</td>\n",
       "      <td>80.00</td>\n",
       "      <td>3.00</td>\n",
       "      <td>3.00</td>\n",
       "      <td>1.00</td>\n",
       "      <td>1.00</td>\n",
       "      <td>1.00</td>\n",
       "      <td>0.00</td>\n",
       "      <td>33.00</td>\n",
       "      <td>64.00</td>\n",
       "    </tr>\n",
       "  </tbody>\n",
       "</table>\n",
       "</div>"
      ],
      "text/plain": [
       "       gender   ap_hi   ap_lo  cholesterol    gluc   smoke    alco  active  \\\n",
       "count 8639.00 8639.00 8639.00      8639.00 8639.00 8639.00 8639.00 8639.00   \n",
       "mean     1.46  120.00   80.00         1.23    1.22    0.14    0.08    0.76   \n",
       "std      0.50    0.00    0.00         0.54    0.58    0.34    0.26    0.43   \n",
       "min      1.00  120.00   80.00         1.00    1.00    0.00    0.00    0.00   \n",
       "25%      1.00  120.00   80.00         1.00    1.00    0.00    0.00    1.00   \n",
       "50%      1.00  120.00   80.00         1.00    1.00    0.00    0.00    1.00   \n",
       "75%      2.00  120.00   80.00         1.00    1.00    0.00    0.00    1.00   \n",
       "max      2.00  120.00   80.00         3.00    3.00    1.00    1.00    1.00   \n",
       "\n",
       "       cardio     bmi  age_year  \n",
       "count 8639.00 8639.00   8639.00  \n",
       "mean     0.00   25.56     51.19  \n",
       "std      0.00    3.27      6.91  \n",
       "min      0.00   18.00     39.00  \n",
       "25%      0.00   23.20     46.00  \n",
       "50%      0.00   25.20     52.00  \n",
       "75%      0.00   27.80     57.00  \n",
       "max      0.00   33.00     64.00  "
      ]
     },
     "execution_count": 570,
     "metadata": {},
     "output_type": "execute_result"
    }
   ],
   "source": [
    "df_c0.describe()"
   ]
  },
  {
   "cell_type": "code",
   "execution_count": 571,
   "metadata": {},
   "outputs": [],
   "source": [
    "df_c1 = data[data['cardio'] == 1]"
   ]
  },
  {
   "cell_type": "code",
   "execution_count": 572,
   "metadata": {},
   "outputs": [
    {
     "data": {
      "text/html": [
       "<div>\n",
       "<style scoped>\n",
       "    .dataframe tbody tr th:only-of-type {\n",
       "        vertical-align: middle;\n",
       "    }\n",
       "\n",
       "    .dataframe tbody tr th {\n",
       "        vertical-align: top;\n",
       "    }\n",
       "\n",
       "    .dataframe thead th {\n",
       "        text-align: right;\n",
       "    }\n",
       "</style>\n",
       "<table border=\"1\" class=\"dataframe\">\n",
       "  <thead>\n",
       "    <tr style=\"text-align: right;\">\n",
       "      <th></th>\n",
       "      <th>ap_lo</th>\n",
       "      <th>ap_hi</th>\n",
       "      <th>bmi</th>\n",
       "    </tr>\n",
       "  </thead>\n",
       "  <tbody>\n",
       "    <tr>\n",
       "      <th>Q minimo</th>\n",
       "      <td>65.00</td>\n",
       "      <td>75.00</td>\n",
       "      <td>13.80</td>\n",
       "    </tr>\n",
       "    <tr>\n",
       "      <th>Q maximo</th>\n",
       "      <td>105.00</td>\n",
       "      <td>195.00</td>\n",
       "      <td>42.60</td>\n",
       "    </tr>\n",
       "  </tbody>\n",
       "</table>\n",
       "</div>"
      ],
      "text/plain": [
       "          ap_lo  ap_hi   bmi\n",
       "Q minimo  65.00  75.00 13.80\n",
       "Q maximo 105.00 195.00 42.60"
      ]
     },
     "execution_count": 572,
     "metadata": {},
     "output_type": "execute_result"
    }
   ],
   "source": [
    "lista = ['ap_lo', 'ap_hi', 'bmi']\n",
    "df_quartil = pd.DataFrame(index=['Q minimo', 'Q maximo'])\n",
    "\n",
    "for e in lista:\n",
    "    Q1 = df_c1[e].quantile(0.25)\n",
    "    Q3 = df_c1[e].quantile(0.75)\n",
    "    IQR = Q3 - Q1\n",
    "    \n",
    "    minimo = Q1 - (1.5 * IQR)\n",
    "    maximo = Q3+ (1.5 * IQR)\n",
    "    \n",
    "    df_quartil[e]= [minimo, maximo]\n",
    "    \n",
    "df_quartil"
   ]
  },
  {
   "cell_type": "code",
   "execution_count": 573,
   "metadata": {},
   "outputs": [
    {
     "name": "stderr",
     "output_type": "stream",
     "text": [
      "C:\\Users\\Md.Shakhawat Kabir\\AppData\\Roaming\\Python\\Python39\\site-packages\\pandas\\core\\frame.py:4906: SettingWithCopyWarning: \n",
      "A value is trying to be set on a copy of a slice from a DataFrame\n",
      "\n",
      "See the caveats in the documentation: https://pandas.pydata.org/pandas-docs/stable/user_guide/indexing.html#returning-a-view-versus-a-copy\n",
      "  return super().drop(\n"
     ]
    }
   ],
   "source": [
    "outlier_c1 = df_c1[(df_c1['ap_lo']>100)|(df_c1['ap_lo']<70)|(df_c1['ap_hi']>170)|(df_c1['ap_hi']<90)|(df_c1['bmi']>40)|(df_c1['bmi']<16)].index\n",
    "df_c1.drop(outlier_c1, inplace=True)"
   ]
  },
  {
   "cell_type": "code",
   "execution_count": 574,
   "metadata": {},
   "outputs": [
    {
     "data": {
      "text/html": [
       "<div>\n",
       "<style scoped>\n",
       "    .dataframe tbody tr th:only-of-type {\n",
       "        vertical-align: middle;\n",
       "    }\n",
       "\n",
       "    .dataframe tbody tr th {\n",
       "        vertical-align: top;\n",
       "    }\n",
       "\n",
       "    .dataframe thead th {\n",
       "        text-align: right;\n",
       "    }\n",
       "</style>\n",
       "<table border=\"1\" class=\"dataframe\">\n",
       "  <thead>\n",
       "    <tr style=\"text-align: right;\">\n",
       "      <th></th>\n",
       "      <th>gender</th>\n",
       "      <th>ap_hi</th>\n",
       "      <th>ap_lo</th>\n",
       "      <th>cholesterol</th>\n",
       "      <th>gluc</th>\n",
       "      <th>smoke</th>\n",
       "      <th>alco</th>\n",
       "      <th>active</th>\n",
       "      <th>cardio</th>\n",
       "      <th>bmi</th>\n",
       "      <th>age_year</th>\n",
       "    </tr>\n",
       "  </thead>\n",
       "  <tbody>\n",
       "    <tr>\n",
       "      <th>count</th>\n",
       "      <td>28390.00</td>\n",
       "      <td>28390.00</td>\n",
       "      <td>28390.00</td>\n",
       "      <td>28390.00</td>\n",
       "      <td>28390.00</td>\n",
       "      <td>28390.00</td>\n",
       "      <td>28390.00</td>\n",
       "      <td>28390.00</td>\n",
       "      <td>28390.00</td>\n",
       "      <td>28390.00</td>\n",
       "      <td>28390.00</td>\n",
       "    </tr>\n",
       "    <tr>\n",
       "      <th>mean</th>\n",
       "      <td>1.37</td>\n",
       "      <td>133.36</td>\n",
       "      <td>84.54</td>\n",
       "      <td>1.54</td>\n",
       "      <td>1.29</td>\n",
       "      <td>0.09</td>\n",
       "      <td>0.06</td>\n",
       "      <td>0.78</td>\n",
       "      <td>1.00</td>\n",
       "      <td>28.03</td>\n",
       "      <td>54.39</td>\n",
       "    </tr>\n",
       "    <tr>\n",
       "      <th>std</th>\n",
       "      <td>0.48</td>\n",
       "      <td>14.99</td>\n",
       "      <td>8.08</td>\n",
       "      <td>0.79</td>\n",
       "      <td>0.64</td>\n",
       "      <td>0.29</td>\n",
       "      <td>0.23</td>\n",
       "      <td>0.41</td>\n",
       "      <td>0.00</td>\n",
       "      <td>4.61</td>\n",
       "      <td>6.43</td>\n",
       "    </tr>\n",
       "    <tr>\n",
       "      <th>min</th>\n",
       "      <td>1.00</td>\n",
       "      <td>90.00</td>\n",
       "      <td>70.00</td>\n",
       "      <td>1.00</td>\n",
       "      <td>1.00</td>\n",
       "      <td>0.00</td>\n",
       "      <td>0.00</td>\n",
       "      <td>0.00</td>\n",
       "      <td>1.00</td>\n",
       "      <td>16.00</td>\n",
       "      <td>39.00</td>\n",
       "    </tr>\n",
       "    <tr>\n",
       "      <th>25%</th>\n",
       "      <td>1.00</td>\n",
       "      <td>120.00</td>\n",
       "      <td>80.00</td>\n",
       "      <td>1.00</td>\n",
       "      <td>1.00</td>\n",
       "      <td>0.00</td>\n",
       "      <td>0.00</td>\n",
       "      <td>1.00</td>\n",
       "      <td>1.00</td>\n",
       "      <td>24.50</td>\n",
       "      <td>50.00</td>\n",
       "    </tr>\n",
       "    <tr>\n",
       "      <th>50%</th>\n",
       "      <td>1.00</td>\n",
       "      <td>130.00</td>\n",
       "      <td>80.00</td>\n",
       "      <td>1.00</td>\n",
       "      <td>1.00</td>\n",
       "      <td>0.00</td>\n",
       "      <td>0.00</td>\n",
       "      <td>1.00</td>\n",
       "      <td>1.00</td>\n",
       "      <td>27.40</td>\n",
       "      <td>55.00</td>\n",
       "    </tr>\n",
       "    <tr>\n",
       "      <th>75%</th>\n",
       "      <td>2.00</td>\n",
       "      <td>140.00</td>\n",
       "      <td>90.00</td>\n",
       "      <td>2.00</td>\n",
       "      <td>1.00</td>\n",
       "      <td>0.00</td>\n",
       "      <td>0.00</td>\n",
       "      <td>1.00</td>\n",
       "      <td>1.00</td>\n",
       "      <td>31.20</td>\n",
       "      <td>60.00</td>\n",
       "    </tr>\n",
       "    <tr>\n",
       "      <th>max</th>\n",
       "      <td>2.00</td>\n",
       "      <td>170.00</td>\n",
       "      <td>100.00</td>\n",
       "      <td>3.00</td>\n",
       "      <td>3.00</td>\n",
       "      <td>1.00</td>\n",
       "      <td>1.00</td>\n",
       "      <td>1.00</td>\n",
       "      <td>1.00</td>\n",
       "      <td>40.00</td>\n",
       "      <td>64.00</td>\n",
       "    </tr>\n",
       "  </tbody>\n",
       "</table>\n",
       "</div>"
      ],
      "text/plain": [
       "        gender    ap_hi    ap_lo  cholesterol     gluc    smoke     alco  \\\n",
       "count 28390.00 28390.00 28390.00     28390.00 28390.00 28390.00 28390.00   \n",
       "mean      1.37   133.36    84.54         1.54     1.29     0.09     0.06   \n",
       "std       0.48    14.99     8.08         0.79     0.64     0.29     0.23   \n",
       "min       1.00    90.00    70.00         1.00     1.00     0.00     0.00   \n",
       "25%       1.00   120.00    80.00         1.00     1.00     0.00     0.00   \n",
       "50%       1.00   130.00    80.00         1.00     1.00     0.00     0.00   \n",
       "75%       2.00   140.00    90.00         2.00     1.00     0.00     0.00   \n",
       "max       2.00   170.00   100.00         3.00     3.00     1.00     1.00   \n",
       "\n",
       "        active   cardio      bmi  age_year  \n",
       "count 28390.00 28390.00 28390.00  28390.00  \n",
       "mean      0.78     1.00    28.03     54.39  \n",
       "std       0.41     0.00     4.61      6.43  \n",
       "min       0.00     1.00    16.00     39.00  \n",
       "25%       1.00     1.00    24.50     50.00  \n",
       "50%       1.00     1.00    27.40     55.00  \n",
       "75%       1.00     1.00    31.20     60.00  \n",
       "max       1.00     1.00    40.00     64.00  "
      ]
     },
     "execution_count": 574,
     "metadata": {},
     "output_type": "execute_result"
    }
   ],
   "source": [
    "df_c1.describe()"
   ]
  },
  {
   "cell_type": "code",
   "execution_count": 575,
   "metadata": {},
   "outputs": [],
   "source": [
    "data = pd.concat([df_c0, df_c1])"
   ]
  },
  {
   "cell_type": "code",
   "execution_count": 576,
   "metadata": {},
   "outputs": [],
   "source": [
    "df = pd.melt(data,id_vars='cardio', value_vars=['age_year', 'ap_hi', 'ap_lo', 'bmi'],  var_name='colunas', value_name='valores', col_level=None)"
   ]
  },
  {
   "cell_type": "code",
   "execution_count": 577,
   "metadata": {},
   "outputs": [
    {
     "data": {
      "text/plain": [
       "<AxesSubplot:xlabel='colunas', ylabel='valores'>"
      ]
     },
     "execution_count": 577,
     "metadata": {},
     "output_type": "execute_result"
    },
    {
     "data": {
      "image/png": "[encoded data removed]",
      "text/plain": [
       "<Figure size 864x576 with 1 Axes>"
      ]
     },
     "metadata": {},
     "output_type": "display_data"
    }
   ],
   "source": [
    "plt.figure(figsize=(12,8))\n",
    "sns.boxplot(x='colunas', y='valores', hue='cardio', data=df)"
   ]
  },
  {
   "cell_type": "code",
   "execution_count": 578,
   "metadata": {},
   "outputs": [
    {
     "data": {
      "text/plain": [
       "<AxesSubplot:xlabel='colunas', ylabel='valores'>"
      ]
     },
     "execution_count": 578,
     "metadata": {},
     "output_type": "execute_result"
    },
    {
     "data": {
      "image/png": "[encoded data removed]",
      "text/plain": [
       "<Figure size 432x288 with 1 Axes>"
      ]
     },
     "metadata": {},
     "output_type": "display_data"
    }
   ],
   "source": [
    "sns.barplot(x='colunas', y='valores', hue='cardio',data=df)"
   ]
  },
  {
   "cell_type": "code",
   "execution_count": 579,
   "metadata": {},
   "outputs": [
    {
     "name": "stdout",
     "output_type": "stream",
     "text": [
      "0 rows are same\n"
     ]
    }
   ],
   "source": [
    "print(\"{} rows are same\".format(data.duplicated().sum()))"
   ]
  },
  {
   "cell_type": "markdown",
   "metadata": {},
   "source": [
    "### **Missing Value Detection**"
   ]
  },
  {
   "cell_type": "code",
   "execution_count": 580,
   "metadata": {},
   "outputs": [
    {
     "data": {
      "text/plain": [
       "gender         0\n",
       "ap_hi          0\n",
       "ap_lo          0\n",
       "cholesterol    0\n",
       "gluc           0\n",
       "smoke          0\n",
       "alco           0\n",
       "active         0\n",
       "cardio         0\n",
       "bmi            0\n",
       "age_year       0\n",
       "dtype: int64"
      ]
     },
     "execution_count": 580,
     "metadata": {},
     "output_type": "execute_result"
    }
   ],
   "source": [
    "data.isnull().sum()"
   ]
  },
  {
   "cell_type": "markdown",
   "metadata": {},
   "source": [
    "### **Missing Value Detection**"
   ]
  },
  {
   "cell_type": "code",
   "execution_count": 581,
   "metadata": {},
   "outputs": [
    {
     "data": {
      "text/html": [
       "<div>\n",
       "<style scoped>\n",
       "    .dataframe tbody tr th:only-of-type {\n",
       "        vertical-align: middle;\n",
       "    }\n",
       "\n",
       "    .dataframe tbody tr th {\n",
       "        vertical-align: top;\n",
       "    }\n",
       "\n",
       "    .dataframe thead th {\n",
       "        text-align: right;\n",
       "    }\n",
       "</style>\n",
       "<table border=\"1\" class=\"dataframe\">\n",
       "  <thead>\n",
       "    <tr style=\"text-align: right;\">\n",
       "      <th></th>\n",
       "      <th>gender</th>\n",
       "      <th>ap_hi</th>\n",
       "      <th>ap_lo</th>\n",
       "      <th>cholesterol</th>\n",
       "      <th>gluc</th>\n",
       "      <th>smoke</th>\n",
       "      <th>alco</th>\n",
       "      <th>active</th>\n",
       "      <th>cardio</th>\n",
       "      <th>bmi</th>\n",
       "      <th>age_year</th>\n",
       "    </tr>\n",
       "  </thead>\n",
       "  <tbody>\n",
       "    <tr>\n",
       "      <th>count</th>\n",
       "      <td>37029.00</td>\n",
       "      <td>37029.00</td>\n",
       "      <td>37029.00</td>\n",
       "      <td>37029.00</td>\n",
       "      <td>37029.00</td>\n",
       "      <td>37029.00</td>\n",
       "      <td>37029.00</td>\n",
       "      <td>37029.00</td>\n",
       "      <td>37029.00</td>\n",
       "      <td>37029.00</td>\n",
       "      <td>37029.00</td>\n",
       "    </tr>\n",
       "    <tr>\n",
       "      <th>mean</th>\n",
       "      <td>1.39</td>\n",
       "      <td>130.24</td>\n",
       "      <td>83.48</td>\n",
       "      <td>1.47</td>\n",
       "      <td>1.27</td>\n",
       "      <td>0.10</td>\n",
       "      <td>0.06</td>\n",
       "      <td>0.78</td>\n",
       "      <td>0.77</td>\n",
       "      <td>27.46</td>\n",
       "      <td>53.64</td>\n",
       "    </tr>\n",
       "    <tr>\n",
       "      <th>std</th>\n",
       "      <td>0.49</td>\n",
       "      <td>14.29</td>\n",
       "      <td>7.33</td>\n",
       "      <td>0.75</td>\n",
       "      <td>0.62</td>\n",
       "      <td>0.30</td>\n",
       "      <td>0.24</td>\n",
       "      <td>0.42</td>\n",
       "      <td>0.42</td>\n",
       "      <td>4.46</td>\n",
       "      <td>6.69</td>\n",
       "    </tr>\n",
       "    <tr>\n",
       "      <th>min</th>\n",
       "      <td>1.00</td>\n",
       "      <td>90.00</td>\n",
       "      <td>70.00</td>\n",
       "      <td>1.00</td>\n",
       "      <td>1.00</td>\n",
       "      <td>0.00</td>\n",
       "      <td>0.00</td>\n",
       "      <td>0.00</td>\n",
       "      <td>0.00</td>\n",
       "      <td>16.00</td>\n",
       "      <td>39.00</td>\n",
       "    </tr>\n",
       "    <tr>\n",
       "      <th>25%</th>\n",
       "      <td>1.00</td>\n",
       "      <td>120.00</td>\n",
       "      <td>80.00</td>\n",
       "      <td>1.00</td>\n",
       "      <td>1.00</td>\n",
       "      <td>0.00</td>\n",
       "      <td>0.00</td>\n",
       "      <td>1.00</td>\n",
       "      <td>1.00</td>\n",
       "      <td>24.10</td>\n",
       "      <td>49.00</td>\n",
       "    </tr>\n",
       "    <tr>\n",
       "      <th>50%</th>\n",
       "      <td>1.00</td>\n",
       "      <td>120.00</td>\n",
       "      <td>80.00</td>\n",
       "      <td>1.00</td>\n",
       "      <td>1.00</td>\n",
       "      <td>0.00</td>\n",
       "      <td>0.00</td>\n",
       "      <td>1.00</td>\n",
       "      <td>1.00</td>\n",
       "      <td>26.80</td>\n",
       "      <td>54.00</td>\n",
       "    </tr>\n",
       "    <tr>\n",
       "      <th>75%</th>\n",
       "      <td>2.00</td>\n",
       "      <td>140.00</td>\n",
       "      <td>90.00</td>\n",
       "      <td>2.00</td>\n",
       "      <td>1.00</td>\n",
       "      <td>0.00</td>\n",
       "      <td>0.00</td>\n",
       "      <td>1.00</td>\n",
       "      <td>1.00</td>\n",
       "      <td>30.40</td>\n",
       "      <td>59.00</td>\n",
       "    </tr>\n",
       "    <tr>\n",
       "      <th>max</th>\n",
       "      <td>2.00</td>\n",
       "      <td>170.00</td>\n",
       "      <td>100.00</td>\n",
       "      <td>3.00</td>\n",
       "      <td>3.00</td>\n",
       "      <td>1.00</td>\n",
       "      <td>1.00</td>\n",
       "      <td>1.00</td>\n",
       "      <td>1.00</td>\n",
       "      <td>40.00</td>\n",
       "      <td>64.00</td>\n",
       "    </tr>\n",
       "  </tbody>\n",
       "</table>\n",
       "</div>"
      ],
      "text/plain": [
       "        gender    ap_hi    ap_lo  cholesterol     gluc    smoke     alco  \\\n",
       "count 37029.00 37029.00 37029.00     37029.00 37029.00 37029.00 37029.00   \n",
       "mean      1.39   130.24    83.48         1.47     1.27     0.10     0.06   \n",
       "std       0.49    14.29     7.33         0.75     0.62     0.30     0.24   \n",
       "min       1.00    90.00    70.00         1.00     1.00     0.00     0.00   \n",
       "25%       1.00   120.00    80.00         1.00     1.00     0.00     0.00   \n",
       "50%       1.00   120.00    80.00         1.00     1.00     0.00     0.00   \n",
       "75%       2.00   140.00    90.00         2.00     1.00     0.00     0.00   \n",
       "max       2.00   170.00   100.00         3.00     3.00     1.00     1.00   \n",
       "\n",
       "        active   cardio      bmi  age_year  \n",
       "count 37029.00 37029.00 37029.00  37029.00  \n",
       "mean      0.78     0.77    27.46     53.64  \n",
       "std       0.42     0.42     4.46      6.69  \n",
       "min       0.00     0.00    16.00     39.00  \n",
       "25%       1.00     1.00    24.10     49.00  \n",
       "50%       1.00     1.00    26.80     54.00  \n",
       "75%       1.00     1.00    30.40     59.00  \n",
       "max       1.00     1.00    40.00     64.00  "
      ]
     },
     "execution_count": 581,
     "metadata": {},
     "output_type": "execute_result"
    }
   ],
   "source": [
    "pd.set_option(\"display.float\", \"{:.2f}\".format)\n",
    "data.describe()"
   ]
  },
  {
   "cell_type": "markdown",
   "metadata": {},
   "source": [
    "# Visualization "
   ]
  },
  {
   "cell_type": "code",
   "execution_count": 582,
   "metadata": {},
   "outputs": [
    {
     "data": {
      "text/plain": [
       "1    28390\n",
       "0     8639\n",
       "Name: cardio, dtype: int64"
      ]
     },
     "execution_count": 582,
     "metadata": {},
     "output_type": "execute_result"
    }
   ],
   "source": [
    "data.cardio.value_counts()"
   ]
  },
  {
   "cell_type": "code",
   "execution_count": 583,
   "metadata": {},
   "outputs": [],
   "source": [
    "categorical_val = []\n",
    "continous_val = []\n",
    "for column in data.columns:\n",
    "    if len(data[column].unique()) <= 10:\n",
    "        categorical_val.append(column)\n",
    "    else:\n",
    "        continous_val.append(column)"
   ]
  },
  {
   "cell_type": "code",
   "execution_count": 584,
   "metadata": {},
   "outputs": [
    {
     "data": {
      "text/plain": [
       "['gender', 'cholesterol', 'gluc', 'smoke', 'alco', 'active', 'cardio']"
      ]
     },
     "execution_count": 584,
     "metadata": {},
     "output_type": "execute_result"
    }
   ],
   "source": [
    "categorical_val"
   ]
  },
  {
   "cell_type": "code",
   "execution_count": 585,
   "metadata": {},
   "outputs": [
    {
     "data": {
      "image/png": "[encoded data removed]",
      "text/plain": [
       "<Figure size 432x576 with 1 Axes>"
      ]
     },
     "metadata": {},
     "output_type": "display_data"
    }
   ],
   "source": [
    "plt.figure(figsize=(6,8))\n",
    "dataframe_categorical = data.loc[:,['cardio']]\n",
    "sns.countplot(x=\"variable\", hue=\"value\",data= pd.melt(dataframe_categorical));"
   ]
  },
  {
   "cell_type": "code",
   "execution_count": 586,
   "metadata": {},
   "outputs": [
    {
     "data": {
      "image/png": "[encoded data removed]",
      "text/plain": [
       "<Figure size 720x432 with 1 Axes>"
      ]
     },
     "metadata": {},
     "output_type": "display_data"
    }
   ],
   "source": [
    "plt.figure(figsize=(10,6))\n",
    "dataframe_categorical = data.loc[:,['gender', 'cholesterol', 'gluc', 'smoke', 'alco', 'active', 'cardio']]\n",
    "sns.countplot(x=\"variable\", hue=\"value\",data= pd.melt(dataframe_categorical));"
   ]
  },
  {
   "cell_type": "code",
   "execution_count": 587,
   "metadata": {},
   "outputs": [
    {
     "name": "stdout",
     "output_type": "stream",
     "text": [
      "sex=[1 = male, 0 = female]\n",
      "chest pain type =[0=Typical angina, 1=Atypical angina, 2=Non-anginal pain, 3=Asymptomatic]\n",
      "Fasting Blood Sugar=[1 = true, 0 = false]\n",
      "Resting Electrocardiographic=[0 = Normal, 1 = Non-Normal, 2 = Risk]\n",
      "Exercise induced Angina =[1 = yes; 0 = no]\n",
      "Peak Exercise=[0= better heart rate with excercise 1=typical healthy heart, 2=signs of unhealthy heart]\n",
      "=[0=,1=,2=,3=,4=]\n",
      "=[0=,1=,2=,3=]\n",
      "=[0=,1=]\n"
     ]
    },
    {
     "data": {
      "image/png": "[encoded data removed]",
      "text/plain": [
       "<Figure size 1080x1080 with 7 Axes>"
      ]
     },
     "metadata": {},
     "output_type": "display_data"
    }
   ],
   "source": [
    "plt.figure(figsize=(15, 15))\n",
    "print (\"sex=[1 = male, 0 = female]\")\n",
    "print (\"chest pain type =[0=Typical angina, 1=Atypical angina, 2=Non-anginal pain, 3=Asymptomatic]\")\n",
    "print (\"Fasting Blood Sugar=[1 = true, 0 = false]\")\n",
    "print (\"Resting Electrocardiographic=[0 = Normal, 1 = Non-Normal, 2 = Risk]\")\n",
    "print (\"Exercise induced Angina =[1 = yes; 0 = no]\")\n",
    "print (\"Peak Exercise=[0= better heart rate with excercise 1=typical healthy heart, 2=signs of unhealthy heart]\")\n",
    "print (\"=[0=,1=,2=,3=,4=]\")\n",
    "print (\"=[0=,1=,2=,3=]\")\n",
    "print (\"=[0=,1=]\")\n",
    "for i, column in enumerate(categorical_val, 1):\n",
    "    plt.subplot(3, 3, i)\n",
    "    data[data[\"cardio\"] == 0][column].hist(bins=35, color='Red', label='Have Heart Disease = YES', alpha=.8)\n",
    "    data[data[\"cardio\"] == 1][column].hist(bins=35, color='Black', label='Have Heart Disease = NO', alpha=.5)\n",
    "    plt.legend()\n",
    "    plt.xlabel(column)"
   ]
  },
  {
   "cell_type": "code",
   "execution_count": 588,
   "metadata": {},
   "outputs": [
    {
     "data": {
      "text/plain": [
       "['ap_hi', 'ap_lo', 'bmi', 'age_year']"
      ]
     },
     "execution_count": 588,
     "metadata": {},
     "output_type": "execute_result"
    }
   ],
   "source": [
    "continous_val"
   ]
  },
  {
   "cell_type": "code",
   "execution_count": 589,
   "id": "a807a731",
   "metadata": {},
   "outputs": [
    {
     "data": {
      "image/png": "[encoded data removed]",
      "text/plain": [
       "<Figure size 1080x1080 with 4 Axes>"
      ]
     },
     "metadata": {},
     "output_type": "display_data"
    }
   ],
   "source": [
    "plt.figure(figsize=(15, 15))\n",
    "\n",
    "for i, column in enumerate(continous_val, 1):\n",
    "    plt.subplot(3, 2, i)\n",
    "    data[data[\"cardio\"] == 0][column].hist(bins=35, color='Red', label='Have Heart Disease = YES', alpha=.8)\n",
    "    data[data[\"cardio\"] == 1][column].hist(bins=35, color='Black', label='Have Heart Disease = NO', alpha=.8)\n",
    "    plt.legend()\n",
    "    plt.xlabel(column)"
   ]
  },
  {
   "cell_type": "code",
   "execution_count": 590,
   "id": "cd6b3e59",
   "metadata": {},
   "outputs": [
    {
     "data": {
      "image/png": "[encoded data removed]",
      "text/plain": [
       "<Figure size 648x504 with 1 Axes>"
      ]
     },
     "metadata": {},
     "output_type": "display_data"
    }
   ],
   "source": [
    "# Create another figure\n",
    "plt.figure(figsize=(9, 7))\n",
    "\n",
    "# Scatter with postivie examples\n",
    "plt.scatter(data.age_year[data.cardio==1],\n",
    "            data.bmi[data.cardio==1],\n",
    "            c=\"red\")\n",
    "\n",
    "# Scatter with negative examples\n",
    "plt.scatter(data.age_year[data.cardio==0],\n",
    "            data.bmi[data.cardio==0],\n",
    "            c=\"black\")\n",
    "\n",
    "# Add some helpful info\n",
    "plt.title(\"Heart Disease in function of Age and Max Heart Rate\")\n",
    "plt.xlabel(\"Age\")\n",
    "plt.ylabel(\"Max Heart Rate\")\n",
    "plt.legend([\"Disease\", \"No Disease\"]);"
   ]
  },
  {
   "cell_type": "code",
   "execution_count": 591,
   "metadata": {},
   "outputs": [
    {
     "data": {
      "text/html": [
       "<div>\n",
       "<style scoped>\n",
       "    .dataframe tbody tr th:only-of-type {\n",
       "        vertical-align: middle;\n",
       "    }\n",
       "\n",
       "    .dataframe tbody tr th {\n",
       "        vertical-align: top;\n",
       "    }\n",
       "\n",
       "    .dataframe thead th {\n",
       "        text-align: right;\n",
       "    }\n",
       "</style>\n",
       "<table border=\"1\" class=\"dataframe\">\n",
       "  <thead>\n",
       "    <tr style=\"text-align: right;\">\n",
       "      <th></th>\n",
       "      <th>gender</th>\n",
       "      <th>ap_hi</th>\n",
       "      <th>ap_lo</th>\n",
       "      <th>cholesterol</th>\n",
       "      <th>gluc</th>\n",
       "      <th>smoke</th>\n",
       "      <th>alco</th>\n",
       "      <th>active</th>\n",
       "      <th>cardio</th>\n",
       "      <th>bmi</th>\n",
       "      <th>age_year</th>\n",
       "    </tr>\n",
       "  </thead>\n",
       "  <tbody>\n",
       "    <tr>\n",
       "      <th>gender</th>\n",
       "      <td>1.00</td>\n",
       "      <td>-0.01</td>\n",
       "      <td>0.01</td>\n",
       "      <td>-0.08</td>\n",
       "      <td>-0.05</td>\n",
       "      <td>0.34</td>\n",
       "      <td>0.17</td>\n",
       "      <td>0.02</td>\n",
       "      <td>-0.08</td>\n",
       "      <td>-0.12</td>\n",
       "      <td>-0.06</td>\n",
       "    </tr>\n",
       "    <tr>\n",
       "      <th>ap_hi</th>\n",
       "      <td>-0.01</td>\n",
       "      <td>1.00</td>\n",
       "      <td>0.68</td>\n",
       "      <td>0.12</td>\n",
       "      <td>0.02</td>\n",
       "      <td>0.00</td>\n",
       "      <td>0.02</td>\n",
       "      <td>0.05</td>\n",
       "      <td>0.40</td>\n",
       "      <td>0.22</td>\n",
       "      <td>0.12</td>\n",
       "    </tr>\n",
       "    <tr>\n",
       "      <th>ap_lo</th>\n",
       "      <td>0.01</td>\n",
       "      <td>0.68</td>\n",
       "      <td>1.00</td>\n",
       "      <td>0.09</td>\n",
       "      <td>0.02</td>\n",
       "      <td>0.01</td>\n",
       "      <td>0.03</td>\n",
       "      <td>0.03</td>\n",
       "      <td>0.26</td>\n",
       "      <td>0.19</td>\n",
       "      <td>0.05</td>\n",
       "    </tr>\n",
       "    <tr>\n",
       "      <th>cholesterol</th>\n",
       "      <td>-0.08</td>\n",
       "      <td>0.12</td>\n",
       "      <td>0.09</td>\n",
       "      <td>1.00</td>\n",
       "      <td>0.43</td>\n",
       "      <td>-0.01</td>\n",
       "      <td>0.02</td>\n",
       "      <td>0.05</td>\n",
       "      <td>0.18</td>\n",
       "      <td>0.15</td>\n",
       "      <td>0.13</td>\n",
       "    </tr>\n",
       "    <tr>\n",
       "      <th>gluc</th>\n",
       "      <td>-0.05</td>\n",
       "      <td>0.02</td>\n",
       "      <td>0.02</td>\n",
       "      <td>0.43</td>\n",
       "      <td>1.00</td>\n",
       "      <td>-0.03</td>\n",
       "      <td>-0.01</td>\n",
       "      <td>0.02</td>\n",
       "      <td>0.04</td>\n",
       "      <td>0.08</td>\n",
       "      <td>0.09</td>\n",
       "    </tr>\n",
       "    <tr>\n",
       "      <th>smoke</th>\n",
       "      <td>0.34</td>\n",
       "      <td>0.00</td>\n",
       "      <td>0.01</td>\n",
       "      <td>-0.01</td>\n",
       "      <td>-0.03</td>\n",
       "      <td>1.00</td>\n",
       "      <td>0.34</td>\n",
       "      <td>0.04</td>\n",
       "      <td>-0.06</td>\n",
       "      <td>-0.04</td>\n",
       "      <td>-0.07</td>\n",
       "    </tr>\n",
       "    <tr>\n",
       "      <th>alco</th>\n",
       "      <td>0.17</td>\n",
       "      <td>0.02</td>\n",
       "      <td>0.03</td>\n",
       "      <td>0.02</td>\n",
       "      <td>-0.01</td>\n",
       "      <td>0.34</td>\n",
       "      <td>1.00</td>\n",
       "      <td>0.04</td>\n",
       "      <td>-0.04</td>\n",
       "      <td>0.01</td>\n",
       "      <td>-0.04</td>\n",
       "    </tr>\n",
       "    <tr>\n",
       "      <th>active</th>\n",
       "      <td>0.02</td>\n",
       "      <td>0.05</td>\n",
       "      <td>0.03</td>\n",
       "      <td>0.05</td>\n",
       "      <td>0.02</td>\n",
       "      <td>0.04</td>\n",
       "      <td>0.04</td>\n",
       "      <td>1.00</td>\n",
       "      <td>0.02</td>\n",
       "      <td>0.02</td>\n",
       "      <td>0.00</td>\n",
       "    </tr>\n",
       "    <tr>\n",
       "      <th>cardio</th>\n",
       "      <td>-0.08</td>\n",
       "      <td>0.40</td>\n",
       "      <td>0.26</td>\n",
       "      <td>0.18</td>\n",
       "      <td>0.04</td>\n",
       "      <td>-0.06</td>\n",
       "      <td>-0.04</td>\n",
       "      <td>0.02</td>\n",
       "      <td>1.00</td>\n",
       "      <td>0.23</td>\n",
       "      <td>0.20</td>\n",
       "    </tr>\n",
       "    <tr>\n",
       "      <th>bmi</th>\n",
       "      <td>-0.12</td>\n",
       "      <td>0.22</td>\n",
       "      <td>0.19</td>\n",
       "      <td>0.15</td>\n",
       "      <td>0.08</td>\n",
       "      <td>-0.04</td>\n",
       "      <td>0.01</td>\n",
       "      <td>0.02</td>\n",
       "      <td>0.23</td>\n",
       "      <td>1.00</td>\n",
       "      <td>0.09</td>\n",
       "    </tr>\n",
       "    <tr>\n",
       "      <th>age_year</th>\n",
       "      <td>-0.06</td>\n",
       "      <td>0.12</td>\n",
       "      <td>0.05</td>\n",
       "      <td>0.13</td>\n",
       "      <td>0.09</td>\n",
       "      <td>-0.07</td>\n",
       "      <td>-0.04</td>\n",
       "      <td>0.00</td>\n",
       "      <td>0.20</td>\n",
       "      <td>0.09</td>\n",
       "      <td>1.00</td>\n",
       "    </tr>\n",
       "  </tbody>\n",
       "</table>\n",
       "</div>"
      ],
      "text/plain": [
       "             gender  ap_hi  ap_lo  cholesterol  gluc  smoke  alco  active  \\\n",
       "gender         1.00  -0.01   0.01        -0.08 -0.05   0.34  0.17    0.02   \n",
       "ap_hi         -0.01   1.00   0.68         0.12  0.02   0.00  0.02    0.05   \n",
       "ap_lo          0.01   0.68   1.00         0.09  0.02   0.01  0.03    0.03   \n",
       "cholesterol   -0.08   0.12   0.09         1.00  0.43  -0.01  0.02    0.05   \n",
       "gluc          -0.05   0.02   0.02         0.43  1.00  -0.03 -0.01    0.02   \n",
       "smoke          0.34   0.00   0.01        -0.01 -0.03   1.00  0.34    0.04   \n",
       "alco           0.17   0.02   0.03         0.02 -0.01   0.34  1.00    0.04   \n",
       "active         0.02   0.05   0.03         0.05  0.02   0.04  0.04    1.00   \n",
       "cardio        -0.08   0.40   0.26         0.18  0.04  -0.06 -0.04    0.02   \n",
       "bmi           -0.12   0.22   0.19         0.15  0.08  -0.04  0.01    0.02   \n",
       "age_year      -0.06   0.12   0.05         0.13  0.09  -0.07 -0.04    0.00   \n",
       "\n",
       "             cardio   bmi  age_year  \n",
       "gender        -0.08 -0.12     -0.06  \n",
       "ap_hi          0.40  0.22      0.12  \n",
       "ap_lo          0.26  0.19      0.05  \n",
       "cholesterol    0.18  0.15      0.13  \n",
       "gluc           0.04  0.08      0.09  \n",
       "smoke         -0.06 -0.04     -0.07  \n",
       "alco          -0.04  0.01     -0.04  \n",
       "active         0.02  0.02      0.00  \n",
       "cardio         1.00  0.23      0.20  \n",
       "bmi            0.23  1.00      0.09  \n",
       "age_year       0.20  0.09      1.00  "
      ]
     },
     "execution_count": 591,
     "metadata": {},
     "output_type": "execute_result"
    }
   ],
   "source": [
    "data.corr()"
   ]
  },
  {
   "cell_type": "code",
   "execution_count": 592,
   "id": "f478c9b4",
   "metadata": {},
   "outputs": [
    {
     "data": {
      "text/plain": [
       "(11.05, -0.05)"
      ]
     },
     "execution_count": 592,
     "metadata": {},
     "output_type": "execute_result"
    },
    {
     "data": {
      "image/png": "[encoded data removed]",
      "text/plain": [
       "<Figure size 1080x1080 with 2 Axes>"
      ]
     },
     "metadata": {},
     "output_type": "display_data"
    }
   ],
   "source": [
    "corr = data.corr()\n",
    "mask = np.triu(np.ones_like(corr, dtype=bool))\n",
    "cmap = sns.diverging_palette(230, 20, as_cmap=True)\n",
    "fig, ax = plt.subplots(figsize=(15,15))\n",
    "sns.heatmap(corr, center=0, square=True, linewidths=.5, fmt=\".2f\", annot=True, cbar_kws={\"shrink\": .5});\n",
    "\n",
    "bottom, top = ax.get_ylim()\n",
    "ax.set_ylim(bottom + 0.05, top - 0.05)"
   ]
  },
  {
   "cell_type": "markdown",
   "id": "87d82f06",
   "metadata": {
    "papermill": {
     "duration": 0.168213,
     "end_time": "2021-08-24T16:02:02.401013",
     "exception": false,
     "start_time": "2021-08-24T16:02:02.232800",
     "status": "completed"
    },
    "tags": []
   },
   "source": [
    "- `fbs` and `chol` are the lowest correlated with the target variable.\n",
    "- All other variables have a significant correlation with the target variable."
   ]
  },
  {
   "cell_type": "markdown",
   "id": "bb15b2cc",
   "metadata": {
    "papermill": {
     "duration": 0.179542,
     "end_time": "2021-08-24T16:02:02.754366",
     "exception": false,
     "start_time": "2021-08-24T16:02:02.574824",
     "status": "completed"
    },
    "tags": []
   },
   "source": [
    "# Data Processing\n",
    "\n",
    "After exploring the dataset, I observed that I need to convert some categorical variables into dummy variables and scale all the values before training the Machine Learning models.\n",
    "First, I'll use the `get_dummies` method to create dummy columns for categorical variables."
   ]
  },
  {
   "cell_type": "code",
   "execution_count": 593,
   "metadata": {},
   "outputs": [],
   "source": [
    "categorical_val.remove('cardio')\n",
    "dataset = pd.get_dummies(data, columns = categorical_val)"
   ]
  },
  {
   "cell_type": "code",
   "execution_count": 594,
   "id": "4bbb3201",
   "metadata": {
    "execution": {
     "iopub.execute_input": "2021-08-24T16:02:03.522967Z",
     "iopub.status.busy": "2021-08-24T16:02:03.515480Z",
     "iopub.status.idle": "2021-08-24T16:02:03.542872Z",
     "shell.execute_reply": "2021-08-24T16:02:03.541966Z",
     "shell.execute_reply.started": "2021-08-24T13:46:27.507403Z"
    },
    "papermill": {
     "duration": 0.220868,
     "end_time": "2021-08-24T16:02:03.543282",
     "exception": false,
     "start_time": "2021-08-24T16:02:03.322414",
     "status": "completed"
    },
    "tags": []
   },
   "outputs": [
    {
     "data": {
      "text/html": [
       "<div>\n",
       "<style scoped>\n",
       "    .dataframe tbody tr th:only-of-type {\n",
       "        vertical-align: middle;\n",
       "    }\n",
       "\n",
       "    .dataframe tbody tr th {\n",
       "        vertical-align: top;\n",
       "    }\n",
       "\n",
       "    .dataframe thead th {\n",
       "        text-align: right;\n",
       "    }\n",
       "</style>\n",
       "<table border=\"1\" class=\"dataframe\">\n",
       "  <thead>\n",
       "    <tr style=\"text-align: right;\">\n",
       "      <th></th>\n",
       "      <th>ap_hi</th>\n",
       "      <th>ap_lo</th>\n",
       "      <th>cardio</th>\n",
       "      <th>bmi</th>\n",
       "      <th>age_year</th>\n",
       "      <th>gender_1</th>\n",
       "      <th>gender_2</th>\n",
       "      <th>cholesterol_1</th>\n",
       "      <th>cholesterol_2</th>\n",
       "      <th>cholesterol_3</th>\n",
       "      <th>gluc_1</th>\n",
       "      <th>gluc_2</th>\n",
       "      <th>gluc_3</th>\n",
       "      <th>smoke_0</th>\n",
       "      <th>smoke_1</th>\n",
       "      <th>alco_0</th>\n",
       "      <th>alco_1</th>\n",
       "      <th>active_0</th>\n",
       "      <th>active_1</th>\n",
       "    </tr>\n",
       "  </thead>\n",
       "  <tbody>\n",
       "    <tr>\n",
       "      <th>5</th>\n",
       "      <td>120</td>\n",
       "      <td>80</td>\n",
       "      <td>0</td>\n",
       "      <td>29.40</td>\n",
       "      <td>60</td>\n",
       "      <td>1</td>\n",
       "      <td>0</td>\n",
       "      <td>0</td>\n",
       "      <td>1</td>\n",
       "      <td>0</td>\n",
       "      <td>0</td>\n",
       "      <td>1</td>\n",
       "      <td>0</td>\n",
       "      <td>1</td>\n",
       "      <td>0</td>\n",
       "      <td>1</td>\n",
       "      <td>0</td>\n",
       "      <td>1</td>\n",
       "      <td>0</td>\n",
       "    </tr>\n",
       "    <tr>\n",
       "      <th>10</th>\n",
       "      <td>120</td>\n",
       "      <td>80</td>\n",
       "      <td>0</td>\n",
       "      <td>28.00</td>\n",
       "      <td>61</td>\n",
       "      <td>1</td>\n",
       "      <td>0</td>\n",
       "      <td>1</td>\n",
       "      <td>0</td>\n",
       "      <td>0</td>\n",
       "      <td>1</td>\n",
       "      <td>0</td>\n",
       "      <td>0</td>\n",
       "      <td>1</td>\n",
       "      <td>0</td>\n",
       "      <td>1</td>\n",
       "      <td>0</td>\n",
       "      <td>0</td>\n",
       "      <td>1</td>\n",
       "    </tr>\n",
       "    <tr>\n",
       "      <th>11</th>\n",
       "      <td>120</td>\n",
       "      <td>80</td>\n",
       "      <td>0</td>\n",
       "      <td>20.00</td>\n",
       "      <td>51</td>\n",
       "      <td>0</td>\n",
       "      <td>1</td>\n",
       "      <td>1</td>\n",
       "      <td>0</td>\n",
       "      <td>0</td>\n",
       "      <td>1</td>\n",
       "      <td>0</td>\n",
       "      <td>0</td>\n",
       "      <td>1</td>\n",
       "      <td>0</td>\n",
       "      <td>1</td>\n",
       "      <td>0</td>\n",
       "      <td>0</td>\n",
       "      <td>1</td>\n",
       "    </tr>\n",
       "    <tr>\n",
       "      <th>12</th>\n",
       "      <td>120</td>\n",
       "      <td>80</td>\n",
       "      <td>0</td>\n",
       "      <td>22.00</td>\n",
       "      <td>40</td>\n",
       "      <td>0</td>\n",
       "      <td>1</td>\n",
       "      <td>1</td>\n",
       "      <td>0</td>\n",
       "      <td>0</td>\n",
       "      <td>1</td>\n",
       "      <td>0</td>\n",
       "      <td>0</td>\n",
       "      <td>1</td>\n",
       "      <td>0</td>\n",
       "      <td>1</td>\n",
       "      <td>0</td>\n",
       "      <td>1</td>\n",
       "      <td>0</td>\n",
       "    </tr>\n",
       "    <tr>\n",
       "      <th>20</th>\n",
       "      <td>120</td>\n",
       "      <td>80</td>\n",
       "      <td>0</td>\n",
       "      <td>31.20</td>\n",
       "      <td>54</td>\n",
       "      <td>0</td>\n",
       "      <td>1</td>\n",
       "      <td>1</td>\n",
       "      <td>0</td>\n",
       "      <td>0</td>\n",
       "      <td>1</td>\n",
       "      <td>0</td>\n",
       "      <td>0</td>\n",
       "      <td>1</td>\n",
       "      <td>0</td>\n",
       "      <td>1</td>\n",
       "      <td>0</td>\n",
       "      <td>0</td>\n",
       "      <td>1</td>\n",
       "    </tr>\n",
       "    <tr>\n",
       "      <th>...</th>\n",
       "      <td>...</td>\n",
       "      <td>...</td>\n",
       "      <td>...</td>\n",
       "      <td>...</td>\n",
       "      <td>...</td>\n",
       "      <td>...</td>\n",
       "      <td>...</td>\n",
       "      <td>...</td>\n",
       "      <td>...</td>\n",
       "      <td>...</td>\n",
       "      <td>...</td>\n",
       "      <td>...</td>\n",
       "      <td>...</td>\n",
       "      <td>...</td>\n",
       "      <td>...</td>\n",
       "      <td>...</td>\n",
       "      <td>...</td>\n",
       "      <td>...</td>\n",
       "      <td>...</td>\n",
       "    </tr>\n",
       "    <tr>\n",
       "      <th>69990</th>\n",
       "      <td>110</td>\n",
       "      <td>70</td>\n",
       "      <td>1</td>\n",
       "      <td>25.50</td>\n",
       "      <td>41</td>\n",
       "      <td>1</td>\n",
       "      <td>0</td>\n",
       "      <td>1</td>\n",
       "      <td>0</td>\n",
       "      <td>0</td>\n",
       "      <td>1</td>\n",
       "      <td>0</td>\n",
       "      <td>0</td>\n",
       "      <td>1</td>\n",
       "      <td>0</td>\n",
       "      <td>1</td>\n",
       "      <td>0</td>\n",
       "      <td>0</td>\n",
       "      <td>1</td>\n",
       "    </tr>\n",
       "    <tr>\n",
       "      <th>69992</th>\n",
       "      <td>170</td>\n",
       "      <td>90</td>\n",
       "      <td>1</td>\n",
       "      <td>21.60</td>\n",
       "      <td>51</td>\n",
       "      <td>1</td>\n",
       "      <td>0</td>\n",
       "      <td>1</td>\n",
       "      <td>0</td>\n",
       "      <td>0</td>\n",
       "      <td>1</td>\n",
       "      <td>0</td>\n",
       "      <td>0</td>\n",
       "      <td>1</td>\n",
       "      <td>0</td>\n",
       "      <td>1</td>\n",
       "      <td>0</td>\n",
       "      <td>0</td>\n",
       "      <td>1</td>\n",
       "    </tr>\n",
       "    <tr>\n",
       "      <th>69993</th>\n",
       "      <td>130</td>\n",
       "      <td>90</td>\n",
       "      <td>1</td>\n",
       "      <td>23.70</td>\n",
       "      <td>53</td>\n",
       "      <td>1</td>\n",
       "      <td>0</td>\n",
       "      <td>1</td>\n",
       "      <td>0</td>\n",
       "      <td>0</td>\n",
       "      <td>1</td>\n",
       "      <td>0</td>\n",
       "      <td>0</td>\n",
       "      <td>1</td>\n",
       "      <td>0</td>\n",
       "      <td>1</td>\n",
       "      <td>0</td>\n",
       "      <td>0</td>\n",
       "      <td>1</td>\n",
       "    </tr>\n",
       "    <tr>\n",
       "      <th>69994</th>\n",
       "      <td>150</td>\n",
       "      <td>80</td>\n",
       "      <td>1</td>\n",
       "      <td>29.40</td>\n",
       "      <td>57</td>\n",
       "      <td>1</td>\n",
       "      <td>0</td>\n",
       "      <td>1</td>\n",
       "      <td>0</td>\n",
       "      <td>0</td>\n",
       "      <td>1</td>\n",
       "      <td>0</td>\n",
       "      <td>0</td>\n",
       "      <td>1</td>\n",
       "      <td>0</td>\n",
       "      <td>1</td>\n",
       "      <td>0</td>\n",
       "      <td>0</td>\n",
       "      <td>1</td>\n",
       "    </tr>\n",
       "    <tr>\n",
       "      <th>69998</th>\n",
       "      <td>135</td>\n",
       "      <td>80</td>\n",
       "      <td>1</td>\n",
       "      <td>27.10</td>\n",
       "      <td>61</td>\n",
       "      <td>1</td>\n",
       "      <td>0</td>\n",
       "      <td>1</td>\n",
       "      <td>0</td>\n",
       "      <td>0</td>\n",
       "      <td>0</td>\n",
       "      <td>1</td>\n",
       "      <td>0</td>\n",
       "      <td>1</td>\n",
       "      <td>0</td>\n",
       "      <td>1</td>\n",
       "      <td>0</td>\n",
       "      <td>1</td>\n",
       "      <td>0</td>\n",
       "    </tr>\n",
       "  </tbody>\n",
       "</table>\n",
       "<p>37029 rows × 19 columns</p>\n",
       "</div>"
      ],
      "text/plain": [
       "       ap_hi  ap_lo  cardio   bmi  age_year  gender_1  gender_2  \\\n",
       "5        120     80       0 29.40        60         1         0   \n",
       "10       120     80       0 28.00        61         1         0   \n",
       "11       120     80       0 20.00        51         0         1   \n",
       "12       120     80       0 22.00        40         0         1   \n",
       "20       120     80       0 31.20        54         0         1   \n",
       "...      ...    ...     ...   ...       ...       ...       ...   \n",
       "69990    110     70       1 25.50        41         1         0   \n",
       "69992    170     90       1 21.60        51         1         0   \n",
       "69993    130     90       1 23.70        53         1         0   \n",
       "69994    150     80       1 29.40        57         1         0   \n",
       "69998    135     80       1 27.10        61         1         0   \n",
       "\n",
       "       cholesterol_1  cholesterol_2  cholesterol_3  gluc_1  gluc_2  gluc_3  \\\n",
       "5                  0              1              0       0       1       0   \n",
       "10                 1              0              0       1       0       0   \n",
       "11                 1              0              0       1       0       0   \n",
       "12                 1              0              0       1       0       0   \n",
       "20                 1              0              0       1       0       0   \n",
       "...              ...            ...            ...     ...     ...     ...   \n",
       "69990              1              0              0       1       0       0   \n",
       "69992              1              0              0       1       0       0   \n",
       "69993              1              0              0       1       0       0   \n",
       "69994              1              0              0       1       0       0   \n",
       "69998              1              0              0       0       1       0   \n",
       "\n",
       "       smoke_0  smoke_1  alco_0  alco_1  active_0  active_1  \n",
       "5            1        0       1       0         1         0  \n",
       "10           1        0       1       0         0         1  \n",
       "11           1        0       1       0         0         1  \n",
       "12           1        0       1       0         1         0  \n",
       "20           1        0       1       0         0         1  \n",
       "...        ...      ...     ...     ...       ...       ...  \n",
       "69990        1        0       1       0         0         1  \n",
       "69992        1        0       1       0         0         1  \n",
       "69993        1        0       1       0         0         1  \n",
       "69994        1        0       1       0         0         1  \n",
       "69998        1        0       1       0         1         0  \n",
       "\n",
       "[37029 rows x 19 columns]"
      ]
     },
     "execution_count": 594,
     "metadata": {},
     "output_type": "execute_result"
    }
   ],
   "source": [
    "dataset"
   ]
  },
  {
   "cell_type": "code",
   "execution_count": 595,
   "id": "c65add33",
   "metadata": {
    "execution": {
     "iopub.execute_input": "2021-08-24T16:02:03.941086Z",
     "iopub.status.busy": "2021-08-24T16:02:03.940161Z",
     "iopub.status.idle": "2021-08-24T16:02:03.945627Z",
     "shell.execute_reply": "2021-08-24T16:02:03.944730Z",
     "shell.execute_reply.started": "2021-08-24T13:46:27.535043Z"
    },
    "papermill": {
     "duration": 0.202162,
     "end_time": "2021-08-24T16:02:03.945896",
     "exception": false,
     "start_time": "2021-08-24T16:02:03.743734",
     "status": "completed"
    },
    "tags": []
   },
   "outputs": [
    {
     "name": "stdout",
     "output_type": "stream",
     "text": [
      "Index(['gender', 'ap_hi', 'ap_lo', 'cholesterol', 'gluc', 'smoke', 'alco',\n",
      "       'active', 'cardio', 'bmi', 'age_year'],\n",
      "      dtype='object')\n",
      "Index(['ap_hi', 'ap_lo', 'cardio', 'bmi', 'age_year', 'gender_1', 'gender_2',\n",
      "       'cholesterol_1', 'cholesterol_2', 'cholesterol_3', 'gluc_1', 'gluc_2',\n",
      "       'gluc_3', 'smoke_0', 'smoke_1', 'alco_0', 'alco_1', 'active_0',\n",
      "       'active_1'],\n",
      "      dtype='object')\n"
     ]
    }
   ],
   "source": [
    "print(data.columns)\n",
    "print(dataset.columns)"
   ]
  },
  {
   "cell_type": "markdown",
   "metadata": {},
   "source": [
    "# Data Transform into StandardScaler"
   ]
  },
  {
   "cell_type": "code",
   "execution_count": 596,
   "id": "4694070f",
   "metadata": {
    "execution": {
     "iopub.execute_input": "2021-08-24T16:02:04.316409Z",
     "iopub.status.busy": "2021-08-24T16:02:04.315483Z",
     "iopub.status.idle": "2021-08-24T16:02:04.479049Z",
     "shell.execute_reply": "2021-08-24T16:02:04.478135Z",
     "shell.execute_reply.started": "2021-08-24T13:46:27.543152Z"
    },
    "papermill": {
     "duration": 0.347578,
     "end_time": "2021-08-24T16:02:04.479255",
     "exception": false,
     "start_time": "2021-08-24T16:02:04.131677",
     "status": "completed"
    },
    "tags": []
   },
   "outputs": [],
   "source": [
    "from sklearn.preprocessing import StandardScaler\n",
    "\n",
    "s_sc = StandardScaler()\n",
    "col_to_scale = ['ap_hi', 'ap_lo', 'bmi', 'age_year', 'gender_1', 'gender_2',\n",
    "       'cholesterol_1', 'cholesterol_2', 'cholesterol_3', 'gluc_1', 'gluc_2',\n",
    "       'gluc_3', 'smoke_0', 'smoke_1', 'alco_0', 'alco_1', 'active_0',\n",
    "       'active_1']\n",
    "dataset[col_to_scale] = s_sc.fit_transform(dataset[col_to_scale])"
   ]
  },
  {
   "cell_type": "code",
   "execution_count": 597,
   "metadata": {},
   "outputs": [
    {
     "data": {
      "text/html": [
       "<div>\n",
       "<style scoped>\n",
       "    .dataframe tbody tr th:only-of-type {\n",
       "        vertical-align: middle;\n",
       "    }\n",
       "\n",
       "    .dataframe tbody tr th {\n",
       "        vertical-align: top;\n",
       "    }\n",
       "\n",
       "    .dataframe thead th {\n",
       "        text-align: right;\n",
       "    }\n",
       "</style>\n",
       "<table border=\"1\" class=\"dataframe\">\n",
       "  <thead>\n",
       "    <tr style=\"text-align: right;\">\n",
       "      <th></th>\n",
       "      <th>ap_hi</th>\n",
       "      <th>ap_lo</th>\n",
       "      <th>cardio</th>\n",
       "      <th>bmi</th>\n",
       "      <th>age_year</th>\n",
       "      <th>gender_1</th>\n",
       "      <th>gender_2</th>\n",
       "      <th>cholesterol_1</th>\n",
       "      <th>cholesterol_2</th>\n",
       "      <th>cholesterol_3</th>\n",
       "      <th>gluc_1</th>\n",
       "      <th>gluc_2</th>\n",
       "      <th>gluc_3</th>\n",
       "      <th>smoke_0</th>\n",
       "      <th>smoke_1</th>\n",
       "      <th>alco_0</th>\n",
       "      <th>alco_1</th>\n",
       "      <th>active_0</th>\n",
       "      <th>active_1</th>\n",
       "    </tr>\n",
       "  </thead>\n",
       "  <tbody>\n",
       "    <tr>\n",
       "      <th>5</th>\n",
       "      <td>-0.72</td>\n",
       "      <td>-0.48</td>\n",
       "      <td>0</td>\n",
       "      <td>0.44</td>\n",
       "      <td>0.95</td>\n",
       "      <td>0.80</td>\n",
       "      <td>-0.80</td>\n",
       "      <td>-1.48</td>\n",
       "      <td>2.31</td>\n",
       "      <td>-0.43</td>\n",
       "      <td>-2.14</td>\n",
       "      <td>3.28</td>\n",
       "      <td>-0.32</td>\n",
       "      <td>0.34</td>\n",
       "      <td>-0.34</td>\n",
       "      <td>0.25</td>\n",
       "      <td>-0.25</td>\n",
       "      <td>1.86</td>\n",
       "      <td>-1.86</td>\n",
       "    </tr>\n",
       "    <tr>\n",
       "      <th>10</th>\n",
       "      <td>-0.72</td>\n",
       "      <td>-0.48</td>\n",
       "      <td>0</td>\n",
       "      <td>0.12</td>\n",
       "      <td>1.10</td>\n",
       "      <td>0.80</td>\n",
       "      <td>-0.80</td>\n",
       "      <td>0.68</td>\n",
       "      <td>-0.43</td>\n",
       "      <td>-0.43</td>\n",
       "      <td>0.47</td>\n",
       "      <td>-0.30</td>\n",
       "      <td>-0.32</td>\n",
       "      <td>0.34</td>\n",
       "      <td>-0.34</td>\n",
       "      <td>0.25</td>\n",
       "      <td>-0.25</td>\n",
       "      <td>-0.54</td>\n",
       "      <td>0.54</td>\n",
       "    </tr>\n",
       "    <tr>\n",
       "      <th>11</th>\n",
       "      <td>-0.72</td>\n",
       "      <td>-0.48</td>\n",
       "      <td>0</td>\n",
       "      <td>-1.67</td>\n",
       "      <td>-0.40</td>\n",
       "      <td>-1.25</td>\n",
       "      <td>1.25</td>\n",
       "      <td>0.68</td>\n",
       "      <td>-0.43</td>\n",
       "      <td>-0.43</td>\n",
       "      <td>0.47</td>\n",
       "      <td>-0.30</td>\n",
       "      <td>-0.32</td>\n",
       "      <td>0.34</td>\n",
       "      <td>-0.34</td>\n",
       "      <td>0.25</td>\n",
       "      <td>-0.25</td>\n",
       "      <td>-0.54</td>\n",
       "      <td>0.54</td>\n",
       "    </tr>\n",
       "    <tr>\n",
       "      <th>12</th>\n",
       "      <td>-0.72</td>\n",
       "      <td>-0.48</td>\n",
       "      <td>0</td>\n",
       "      <td>-1.22</td>\n",
       "      <td>-2.04</td>\n",
       "      <td>-1.25</td>\n",
       "      <td>1.25</td>\n",
       "      <td>0.68</td>\n",
       "      <td>-0.43</td>\n",
       "      <td>-0.43</td>\n",
       "      <td>0.47</td>\n",
       "      <td>-0.30</td>\n",
       "      <td>-0.32</td>\n",
       "      <td>0.34</td>\n",
       "      <td>-0.34</td>\n",
       "      <td>0.25</td>\n",
       "      <td>-0.25</td>\n",
       "      <td>1.86</td>\n",
       "      <td>-1.86</td>\n",
       "    </tr>\n",
       "    <tr>\n",
       "      <th>20</th>\n",
       "      <td>-0.72</td>\n",
       "      <td>-0.48</td>\n",
       "      <td>0</td>\n",
       "      <td>0.84</td>\n",
       "      <td>0.05</td>\n",
       "      <td>-1.25</td>\n",
       "      <td>1.25</td>\n",
       "      <td>0.68</td>\n",
       "      <td>-0.43</td>\n",
       "      <td>-0.43</td>\n",
       "      <td>0.47</td>\n",
       "      <td>-0.30</td>\n",
       "      <td>-0.32</td>\n",
       "      <td>0.34</td>\n",
       "      <td>-0.34</td>\n",
       "      <td>0.25</td>\n",
       "      <td>-0.25</td>\n",
       "      <td>-0.54</td>\n",
       "      <td>0.54</td>\n",
       "    </tr>\n",
       "    <tr>\n",
       "      <th>...</th>\n",
       "      <td>...</td>\n",
       "      <td>...</td>\n",
       "      <td>...</td>\n",
       "      <td>...</td>\n",
       "      <td>...</td>\n",
       "      <td>...</td>\n",
       "      <td>...</td>\n",
       "      <td>...</td>\n",
       "      <td>...</td>\n",
       "      <td>...</td>\n",
       "      <td>...</td>\n",
       "      <td>...</td>\n",
       "      <td>...</td>\n",
       "      <td>...</td>\n",
       "      <td>...</td>\n",
       "      <td>...</td>\n",
       "      <td>...</td>\n",
       "      <td>...</td>\n",
       "      <td>...</td>\n",
       "    </tr>\n",
       "    <tr>\n",
       "      <th>69990</th>\n",
       "      <td>-1.42</td>\n",
       "      <td>-1.84</td>\n",
       "      <td>1</td>\n",
       "      <td>-0.44</td>\n",
       "      <td>-1.89</td>\n",
       "      <td>0.80</td>\n",
       "      <td>-0.80</td>\n",
       "      <td>0.68</td>\n",
       "      <td>-0.43</td>\n",
       "      <td>-0.43</td>\n",
       "      <td>0.47</td>\n",
       "      <td>-0.30</td>\n",
       "      <td>-0.32</td>\n",
       "      <td>0.34</td>\n",
       "      <td>-0.34</td>\n",
       "      <td>0.25</td>\n",
       "      <td>-0.25</td>\n",
       "      <td>-0.54</td>\n",
       "      <td>0.54</td>\n",
       "    </tr>\n",
       "    <tr>\n",
       "      <th>69992</th>\n",
       "      <td>2.78</td>\n",
       "      <td>0.89</td>\n",
       "      <td>1</td>\n",
       "      <td>-1.31</td>\n",
       "      <td>-0.40</td>\n",
       "      <td>0.80</td>\n",
       "      <td>-0.80</td>\n",
       "      <td>0.68</td>\n",
       "      <td>-0.43</td>\n",
       "      <td>-0.43</td>\n",
       "      <td>0.47</td>\n",
       "      <td>-0.30</td>\n",
       "      <td>-0.32</td>\n",
       "      <td>0.34</td>\n",
       "      <td>-0.34</td>\n",
       "      <td>0.25</td>\n",
       "      <td>-0.25</td>\n",
       "      <td>-0.54</td>\n",
       "      <td>0.54</td>\n",
       "    </tr>\n",
       "    <tr>\n",
       "      <th>69993</th>\n",
       "      <td>-0.02</td>\n",
       "      <td>0.89</td>\n",
       "      <td>1</td>\n",
       "      <td>-0.84</td>\n",
       "      <td>-0.10</td>\n",
       "      <td>0.80</td>\n",
       "      <td>-0.80</td>\n",
       "      <td>0.68</td>\n",
       "      <td>-0.43</td>\n",
       "      <td>-0.43</td>\n",
       "      <td>0.47</td>\n",
       "      <td>-0.30</td>\n",
       "      <td>-0.32</td>\n",
       "      <td>0.34</td>\n",
       "      <td>-0.34</td>\n",
       "      <td>0.25</td>\n",
       "      <td>-0.25</td>\n",
       "      <td>-0.54</td>\n",
       "      <td>0.54</td>\n",
       "    </tr>\n",
       "    <tr>\n",
       "      <th>69994</th>\n",
       "      <td>1.38</td>\n",
       "      <td>-0.48</td>\n",
       "      <td>1</td>\n",
       "      <td>0.44</td>\n",
       "      <td>0.50</td>\n",
       "      <td>0.80</td>\n",
       "      <td>-0.80</td>\n",
       "      <td>0.68</td>\n",
       "      <td>-0.43</td>\n",
       "      <td>-0.43</td>\n",
       "      <td>0.47</td>\n",
       "      <td>-0.30</td>\n",
       "      <td>-0.32</td>\n",
       "      <td>0.34</td>\n",
       "      <td>-0.34</td>\n",
       "      <td>0.25</td>\n",
       "      <td>-0.25</td>\n",
       "      <td>-0.54</td>\n",
       "      <td>0.54</td>\n",
       "    </tr>\n",
       "    <tr>\n",
       "      <th>69998</th>\n",
       "      <td>0.33</td>\n",
       "      <td>-0.48</td>\n",
       "      <td>1</td>\n",
       "      <td>-0.08</td>\n",
       "      <td>1.10</td>\n",
       "      <td>0.80</td>\n",
       "      <td>-0.80</td>\n",
       "      <td>0.68</td>\n",
       "      <td>-0.43</td>\n",
       "      <td>-0.43</td>\n",
       "      <td>-2.14</td>\n",
       "      <td>3.28</td>\n",
       "      <td>-0.32</td>\n",
       "      <td>0.34</td>\n",
       "      <td>-0.34</td>\n",
       "      <td>0.25</td>\n",
       "      <td>-0.25</td>\n",
       "      <td>1.86</td>\n",
       "      <td>-1.86</td>\n",
       "    </tr>\n",
       "  </tbody>\n",
       "</table>\n",
       "<p>37029 rows × 19 columns</p>\n",
       "</div>"
      ],
      "text/plain": [
       "       ap_hi  ap_lo  cardio   bmi  age_year  gender_1  gender_2  \\\n",
       "5      -0.72  -0.48       0  0.44      0.95      0.80     -0.80   \n",
       "10     -0.72  -0.48       0  0.12      1.10      0.80     -0.80   \n",
       "11     -0.72  -0.48       0 -1.67     -0.40     -1.25      1.25   \n",
       "12     -0.72  -0.48       0 -1.22     -2.04     -1.25      1.25   \n",
       "20     -0.72  -0.48       0  0.84      0.05     -1.25      1.25   \n",
       "...      ...    ...     ...   ...       ...       ...       ...   \n",
       "69990  -1.42  -1.84       1 -0.44     -1.89      0.80     -0.80   \n",
       "69992   2.78   0.89       1 -1.31     -0.40      0.80     -0.80   \n",
       "69993  -0.02   0.89       1 -0.84     -0.10      0.80     -0.80   \n",
       "69994   1.38  -0.48       1  0.44      0.50      0.80     -0.80   \n",
       "69998   0.33  -0.48       1 -0.08      1.10      0.80     -0.80   \n",
       "\n",
       "       cholesterol_1  cholesterol_2  cholesterol_3  gluc_1  gluc_2  gluc_3  \\\n",
       "5              -1.48           2.31          -0.43   -2.14    3.28   -0.32   \n",
       "10              0.68          -0.43          -0.43    0.47   -0.30   -0.32   \n",
       "11              0.68          -0.43          -0.43    0.47   -0.30   -0.32   \n",
       "12              0.68          -0.43          -0.43    0.47   -0.30   -0.32   \n",
       "20              0.68          -0.43          -0.43    0.47   -0.30   -0.32   \n",
       "...              ...            ...            ...     ...     ...     ...   \n",
       "69990           0.68          -0.43          -0.43    0.47   -0.30   -0.32   \n",
       "69992           0.68          -0.43          -0.43    0.47   -0.30   -0.32   \n",
       "69993           0.68          -0.43          -0.43    0.47   -0.30   -0.32   \n",
       "69994           0.68          -0.43          -0.43    0.47   -0.30   -0.32   \n",
       "69998           0.68          -0.43          -0.43   -2.14    3.28   -0.32   \n",
       "\n",
       "       smoke_0  smoke_1  alco_0  alco_1  active_0  active_1  \n",
       "5         0.34    -0.34    0.25   -0.25      1.86     -1.86  \n",
       "10        0.34    -0.34    0.25   -0.25     -0.54      0.54  \n",
       "11        0.34    -0.34    0.25   -0.25     -0.54      0.54  \n",
       "12        0.34    -0.34    0.25   -0.25      1.86     -1.86  \n",
       "20        0.34    -0.34    0.25   -0.25     -0.54      0.54  \n",
       "...        ...      ...     ...     ...       ...       ...  \n",
       "69990     0.34    -0.34    0.25   -0.25     -0.54      0.54  \n",
       "69992     0.34    -0.34    0.25   -0.25     -0.54      0.54  \n",
       "69993     0.34    -0.34    0.25   -0.25     -0.54      0.54  \n",
       "69994     0.34    -0.34    0.25   -0.25     -0.54      0.54  \n",
       "69998     0.34    -0.34    0.25   -0.25      1.86     -1.86  \n",
       "\n",
       "[37029 rows x 19 columns]"
      ]
     },
     "execution_count": 597,
     "metadata": {},
     "output_type": "execute_result"
    }
   ],
   "source": [
    "dataset"
   ]
  },
  {
   "cell_type": "markdown",
   "id": "f66fd224",
   "metadata": {},
   "source": [
    "## **Model prepration**"
   ]
  },
  {
   "cell_type": "code",
   "execution_count": 598,
   "id": "fe24fb1a",
   "metadata": {
    "execution": {
     "iopub.execute_input": "2021-08-24T16:02:06.024587Z",
     "iopub.status.busy": "2021-08-24T16:02:06.023852Z",
     "iopub.status.idle": "2021-08-24T16:02:06.048336Z",
     "shell.execute_reply": "2021-08-24T16:02:06.047505Z",
     "shell.execute_reply.started": "2021-08-24T13:46:27.749998Z"
    },
    "papermill": {
     "duration": 0.208707,
     "end_time": "2021-08-24T16:02:06.048516",
     "exception": false,
     "start_time": "2021-08-24T16:02:05.839809",
     "status": "completed"
    },
    "tags": []
   },
   "outputs": [],
   "source": [
    "from sklearn.model_selection import train_test_split\n",
    "\n",
    "X = dataset.drop(\"cardio\", axis = 1)\n",
    "\n",
    "y = dataset[\"cardio\"]\n",
    "\n",
    "X_train, X_test, y_train, y_test = train_test_split(X, y, test_size=0.2, random_state=42)"
   ]
  },
  {
   "cell_type": "code",
   "execution_count": 599,
   "metadata": {},
   "outputs": [
    {
     "name": "stdout",
     "output_type": "stream",
     "text": [
      "Train set shape is (29623, 18)\n",
      "Test set shape is (7406, 18)\n"
     ]
    }
   ],
   "source": [
    "print('Train set shape is',format(X_train.shape))\n",
    "print('Test set shape is',format(X_test.shape))"
   ]
  },
  {
   "cell_type": "code",
   "execution_count": 600,
   "metadata": {},
   "outputs": [],
   "source": [
    "def print_score(clf, X_train, y_train, X_test, y_test, train=True):\n",
    "    if train:\n",
    "        pred = clf.predict(X_train)\n",
    "        clf_report = pd.DataFrame(classification_report(y_train, pred, output_dict=True))\n",
    "        print(\"Train Result:\\n================================================\")\n",
    "        print(f\"Accuracy Score: {accuracy_score(y_train, pred) * 100:.2f}%\")\n",
    "        print(\"_______________________________________________\")\n",
    "        print(f\"CLASSIFICATION REPORT:\\n{clf_report}\")\n",
    "        print(\"_______________________________________________\")\n",
    "        print(f\"Confusion Matrix: \\n {confusion_matrix(y_train, pred)}\\n\")\n",
    "        \n",
    "    elif train==False:\n",
    "        pred = clf.predict(X_test)\n",
    "        clf_report = pd.DataFrame(classification_report(y_test, pred, output_dict=True))\n",
    "        print(\"Test Result:\\n================================================\")        \n",
    "        print(f\"Accuracy Score: {accuracy_score(y_test, pred) * 100:.2f}%\")\n",
    "        print(\"_______________________________________________\")\n",
    "        print(f\"CLASSIFICATION REPORT:\\n{clf_report}\")\n",
    "        print(\"_______________________________________________\")\n",
    "        print(f\"Confusion Matrix: \\n {confusion_matrix(y_test, pred)}\\n\")"
   ]
  },
  {
   "cell_type": "markdown",
   "id": "91cde66b",
   "metadata": {
    "papermill": {
     "duration": 0.1786,
     "end_time": "2021-08-24T16:02:06.768468",
     "exception": false,
     "start_time": "2021-08-24T16:02:06.589868",
     "status": "completed"
    },
    "tags": []
   },
   "source": [
    "## 1. Logistic Regression"
   ]
  },
  {
   "cell_type": "code",
   "execution_count": 601,
   "id": "77b6e95d",
   "metadata": {
    "execution": {
     "iopub.execute_input": "2021-08-24T16:02:07.137718Z",
     "iopub.status.busy": "2021-08-24T16:02:07.136931Z",
     "iopub.status.idle": "2021-08-24T16:02:07.399074Z",
     "shell.execute_reply": "2021-08-24T16:02:07.398346Z",
     "shell.execute_reply.started": "2021-08-24T13:46:27.775115Z"
    },
    "papermill": {
     "duration": 0.448955,
     "end_time": "2021-08-24T16:02:07.399289",
     "exception": false,
     "start_time": "2021-08-24T16:02:06.950334",
     "status": "completed"
    },
    "tags": []
   },
   "outputs": [
    {
     "name": "stdout",
     "output_type": "stream",
     "text": [
      "Train Result:\n",
      "================================================\n",
      "Accuracy Score: 76.98%\n",
      "_______________________________________________\n",
      "CLASSIFICATION REPORT:\n",
      "                0        1  accuracy  macro avg  weighted avg\n",
      "precision    0.50     0.81      0.77       0.66          0.74\n",
      "recall       0.31     0.91      0.77       0.61          0.77\n",
      "f1-score     0.38     0.86      0.77       0.62          0.75\n",
      "support   6855.00 22768.00      0.77   29623.00      29623.00\n",
      "_______________________________________________\n",
      "Confusion Matrix: \n",
      " [[ 2126  4729]\n",
      " [ 2090 20678]]\n",
      "\n",
      "Test Result:\n",
      "================================================\n",
      "Accuracy Score: 76.14%\n",
      "_______________________________________________\n",
      "CLASSIFICATION REPORT:\n",
      "                0       1  accuracy  macro avg  weighted avg\n",
      "precision    0.51    0.80      0.76       0.66          0.73\n",
      "recall       0.30    0.91      0.76       0.60          0.76\n",
      "f1-score     0.38    0.85      0.76       0.61          0.74\n",
      "support   1784.00 5622.00      0.76    7406.00       7406.00\n",
      "_______________________________________________\n",
      "Confusion Matrix: \n",
      " [[ 535 1249]\n",
      " [ 518 5104]]\n",
      "\n"
     ]
    }
   ],
   "source": [
    "from sklearn.linear_model import LogisticRegression\n",
    "\n",
    "lr_clf = LogisticRegression()\n",
    "lr_clf.fit(X_train, y_train)\n",
    "\n",
    "print_score(lr_clf, X_train, y_train, X_test, y_test, train=True)\n",
    "print_score(lr_clf, X_train, y_train, X_test, y_test, train=False)"
   ]
  },
  {
   "cell_type": "markdown",
   "metadata": {},
   "source": [
    "# Confusion Matrix"
   ]
  },
  {
   "cell_type": "code",
   "execution_count": 602,
   "id": "0362869b",
   "metadata": {},
   "outputs": [
    {
     "name": "stderr",
     "output_type": "stream",
     "text": [
      "C:\\Users\\Md.Shakhawat Kabir\\AppData\\Roaming\\Python\\Python39\\site-packages\\sklearn\\utils\\deprecation.py:87: FutureWarning: Function plot_confusion_matrix is deprecated; Function `plot_confusion_matrix` is deprecated in 1.0 and will be removed in 1.2. Use one of the class methods: ConfusionMatrixDisplay.from_predictions or ConfusionMatrixDisplay.from_estimator.\n",
      "  warnings.warn(msg, category=FutureWarning)\n"
     ]
    },
    {
     "data": {
      "text/plain": [
       "<Figure size 432x432 with 0 Axes>"
      ]
     },
     "metadata": {},
     "output_type": "display_data"
    },
    {
     "data": {
      "image/png": "[encoded data removed]",
      "text/plain": [
       "<Figure size 432x288 with 2 Axes>"
      ]
     },
     "metadata": {},
     "output_type": "display_data"
    }
   ],
   "source": [
    "from sklearn.metrics import plot_confusion_matrix\n",
    "plt.figure(figsize=(6, 6))\n",
    "plot_confusion_matrix(lr_clf, X_train, y_train)  \n",
    "plt.show()\n"
   ]
  },
  {
   "cell_type": "code",
   "execution_count": 603,
   "id": "ea9424b6",
   "metadata": {},
   "outputs": [
    {
     "name": "stderr",
     "output_type": "stream",
     "text": [
      "C:\\Users\\Md.Shakhawat Kabir\\AppData\\Roaming\\Python\\Python39\\site-packages\\sklearn\\utils\\deprecation.py:87: FutureWarning: Function plot_confusion_matrix is deprecated; Function `plot_confusion_matrix` is deprecated in 1.0 and will be removed in 1.2. Use one of the class methods: ConfusionMatrixDisplay.from_predictions or ConfusionMatrixDisplay.from_estimator.\n",
      "  warnings.warn(msg, category=FutureWarning)\n"
     ]
    },
    {
     "data": {
      "text/plain": [
       "<Figure size 432x432 with 0 Axes>"
      ]
     },
     "metadata": {},
     "output_type": "display_data"
    },
    {
     "data": {
      "image/png": "[encoded data removed]",
      "text/plain": [
       "<Figure size 432x288 with 2 Axes>"
      ]
     },
     "metadata": {},
     "output_type": "display_data"
    }
   ],
   "source": [
    "from sklearn.metrics import confusion_matrix\n",
    "plt.figure(figsize=(6, 6))\n",
    "plot_confusion_matrix(lr_clf, X_test, y_test) \n",
    "\n",
    "plt.show()"
   ]
  },
  {
   "cell_type": "markdown",
   "id": "61777a68",
   "metadata": {},
   "source": [
    "# Roc Curve "
   ]
  },
  {
   "cell_type": "code",
   "execution_count": 604,
   "id": "720c99f4",
   "metadata": {},
   "outputs": [
    {
     "data": {
      "text/plain": [
       "0.8415211082183542"
      ]
     },
     "execution_count": 604,
     "metadata": {},
     "output_type": "execute_result"
    }
   ],
   "source": [
    "from sklearn.metrics import roc_curve\n",
    "from sklearn.metrics import roc_auc_score\n",
    "#Get predicted probabilites from the model\n",
    "y_probabilities = lr_clf.predict_proba(X_test)[:,1]\n",
    "#Create true and false positive rates\n",
    "false_positive_rate_lr_clf,true_positive_rate_lr_clf,threshold_lr_clf = roc_curve(y_test,y_probabilities)\n",
    "#Calculate area under the curve\n",
    "roc_auc_score(y_test,y_probabilities)"
   ]
  },
  {
   "cell_type": "code",
   "execution_count": 605,
   "id": "1d3fde55",
   "metadata": {},
   "outputs": [
    {
     "data": {
      "image/png": "[encoded data removed]",
      "text/plain": [
       "<Figure size 720x432 with 1 Axes>"
      ]
     },
     "metadata": {},
     "output_type": "display_data"
    }
   ],
   "source": [
    "from sklearn.metrics import roc_curve\n",
    "plt.figure(figsize=(10,6))\n",
    "plt.title('Revceiver Operating Characterstic')\n",
    "plt.plot(false_positive_rate_lr_clf,true_positive_rate_lr_clf)\n",
    "plt.plot([0,1],ls='--')\n",
    "plt.plot([0,0],[1,0],c='.1')\n",
    "plt.plot([1,1],c='.1')\n",
    "plt.xlabel('False Positive Rate')\n",
    "plt.ylabel('True Positive Rate')\n",
    "plt.show()"
   ]
  },
  {
   "cell_type": "code",
   "execution_count": 606,
   "id": "3144006c",
   "metadata": {
    "execution": {
     "iopub.execute_input": "2021-08-24T16:02:07.780588Z",
     "iopub.status.busy": "2021-08-24T16:02:07.779553Z",
     "iopub.status.idle": "2021-08-24T16:02:07.784334Z",
     "shell.execute_reply": "2021-08-24T16:02:07.783669Z",
     "shell.execute_reply.started": "2021-08-24T13:46:28.259230Z"
    },
    "papermill": {
     "duration": 0.202577,
     "end_time": "2021-08-24T16:02:07.784488",
     "exception": false,
     "start_time": "2021-08-24T16:02:07.581911",
     "status": "completed"
    },
    "tags": []
   },
   "outputs": [
    {
     "data": {
      "text/html": [
       "<div>\n",
       "<style scoped>\n",
       "    .dataframe tbody tr th:only-of-type {\n",
       "        vertical-align: middle;\n",
       "    }\n",
       "\n",
       "    .dataframe tbody tr th {\n",
       "        vertical-align: top;\n",
       "    }\n",
       "\n",
       "    .dataframe thead th {\n",
       "        text-align: right;\n",
       "    }\n",
       "</style>\n",
       "<table border=\"1\" class=\"dataframe\">\n",
       "  <thead>\n",
       "    <tr style=\"text-align: right;\">\n",
       "      <th></th>\n",
       "      <th>Model</th>\n",
       "      <th>Training Accuracy %</th>\n",
       "      <th>Testing Accuracy %</th>\n",
       "    </tr>\n",
       "  </thead>\n",
       "  <tbody>\n",
       "    <tr>\n",
       "      <th>0</th>\n",
       "      <td>Logistic Regression</td>\n",
       "      <td>76.98</td>\n",
       "      <td>76.14</td>\n",
       "    </tr>\n",
       "  </tbody>\n",
       "</table>\n",
       "</div>"
      ],
      "text/plain": [
       "                 Model  Training Accuracy %  Testing Accuracy %\n",
       "0  Logistic Regression                76.98               76.14"
      ]
     },
     "execution_count": 606,
     "metadata": {},
     "output_type": "execute_result"
    }
   ],
   "source": [
    "test_score = accuracy_score(y_test, lr_clf.predict(X_test)) * 100\n",
    "train_score = accuracy_score(y_train, lr_clf.predict(X_train)) * 100\n",
    "\n",
    "results_df = pd.DataFrame(data=[[\"Logistic Regression\", train_score, test_score]], \n",
    "                          columns=['Model', 'Training Accuracy %', 'Testing Accuracy %'])\n",
    "results_df"
   ]
  },
  {
   "cell_type": "markdown",
   "id": "f72a7394",
   "metadata": {
    "papermill": {
     "duration": 0.169089,
     "end_time": "2021-08-24T16:02:08.125006",
     "exception": false,
     "start_time": "2021-08-24T16:02:07.955917",
     "status": "completed"
    },
    "tags": []
   },
   "source": [
    "## 2. K-nearest neighbors"
   ]
  },
  {
   "cell_type": "code",
   "execution_count": 607,
   "id": "e43e7f0d",
   "metadata": {
    "execution": {
     "iopub.execute_input": "2021-08-24T16:02:08.480267Z",
     "iopub.status.busy": "2021-08-24T16:02:08.479419Z",
     "iopub.status.idle": "2021-08-24T16:02:08.610460Z",
     "shell.execute_reply": "2021-08-24T16:02:08.611014Z",
     "shell.execute_reply.started": "2021-08-24T13:46:28.275764Z"
    },
    "papermill": {
     "duration": 0.310929,
     "end_time": "2021-08-24T16:02:08.611205",
     "exception": false,
     "start_time": "2021-08-24T16:02:08.300276",
     "status": "completed"
    },
    "tags": []
   },
   "outputs": [
    {
     "name": "stdout",
     "output_type": "stream",
     "text": [
      "Train Result:\n",
      "================================================\n",
      "Accuracy Score: 88.14%\n",
      "_______________________________________________\n",
      "CLASSIFICATION REPORT:\n",
      "                0        1  accuracy  macro avg  weighted avg\n",
      "precision    0.71     0.94      0.88       0.83          0.89\n",
      "recall       0.81     0.90      0.88       0.86          0.88\n",
      "f1-score     0.76     0.92      0.88       0.84          0.88\n",
      "support   6855.00 22768.00      0.88   29623.00      29623.00\n",
      "_______________________________________________\n",
      "Confusion Matrix: \n",
      " [[ 5577  1278]\n",
      " [ 2236 20532]]\n",
      "\n",
      "Test Result:\n",
      "================================================\n",
      "Accuracy Score: 81.42%\n",
      "_______________________________________________\n",
      "CLASSIFICATION REPORT:\n",
      "                0       1  accuracy  macro avg  weighted avg\n",
      "precision    0.61    0.89      0.81       0.75          0.82\n",
      "recall       0.65    0.87      0.81       0.76          0.81\n",
      "f1-score     0.63    0.88      0.81       0.75          0.82\n",
      "support   1784.00 5622.00      0.81    7406.00       7406.00\n",
      "_______________________________________________\n",
      "Confusion Matrix: \n",
      " [[1154  630]\n",
      " [ 746 4876]]\n",
      "\n"
     ]
    }
   ],
   "source": [
    "from sklearn.neighbors import KNeighborsClassifier\n",
    "\n",
    "knn_clf = KNeighborsClassifier()\n",
    "knn_clf.fit(X_train, y_train)\n",
    "\n",
    "print_score(knn_clf, X_train, y_train, X_test, y_test, train=True)\n",
    "print_score(knn_clf, X_train, y_train, X_test, y_test, train=False)"
   ]
  },
  {
   "cell_type": "markdown",
   "metadata": {},
   "source": [
    "# Confusion Matrix"
   ]
  },
  {
   "cell_type": "code",
   "execution_count": 608,
   "metadata": {},
   "outputs": [
    {
     "name": "stderr",
     "output_type": "stream",
     "text": [
      "C:\\Users\\Md.Shakhawat Kabir\\AppData\\Roaming\\Python\\Python39\\site-packages\\sklearn\\utils\\deprecation.py:87: FutureWarning: Function plot_confusion_matrix is deprecated; Function `plot_confusion_matrix` is deprecated in 1.0 and will be removed in 1.2. Use one of the class methods: ConfusionMatrixDisplay.from_predictions or ConfusionMatrixDisplay.from_estimator.\n",
      "  warnings.warn(msg, category=FutureWarning)\n"
     ]
    },
    {
     "data": {
      "text/plain": [
       "<Figure size 432x432 with 0 Axes>"
      ]
     },
     "metadata": {},
     "output_type": "display_data"
    },
    {
     "data": {
      "image/png": "[encoded data removed]",
      "text/plain": [
       "<Figure size 432x288 with 2 Axes>"
      ]
     },
     "metadata": {},
     "output_type": "display_data"
    }
   ],
   "source": [
    "from sklearn.metrics import plot_confusion_matrix\n",
    "plt.figure(figsize=(6, 6))\n",
    "plot_confusion_matrix(knn_clf, X_train, y_train)  \n",
    "plt.show()"
   ]
  },
  {
   "cell_type": "code",
   "execution_count": 609,
   "metadata": {},
   "outputs": [
    {
     "name": "stderr",
     "output_type": "stream",
     "text": [
      "C:\\Users\\Md.Shakhawat Kabir\\AppData\\Roaming\\Python\\Python39\\site-packages\\sklearn\\utils\\deprecation.py:87: FutureWarning: Function plot_confusion_matrix is deprecated; Function `plot_confusion_matrix` is deprecated in 1.0 and will be removed in 1.2. Use one of the class methods: ConfusionMatrixDisplay.from_predictions or ConfusionMatrixDisplay.from_estimator.\n",
      "  warnings.warn(msg, category=FutureWarning)\n"
     ]
    },
    {
     "data": {
      "text/plain": [
       "<Figure size 432x432 with 0 Axes>"
      ]
     },
     "metadata": {},
     "output_type": "display_data"
    },
    {
     "data": {
      "image/png": "[encoded data removed]",
      "text/plain": [
       "<Figure size 432x288 with 2 Axes>"
      ]
     },
     "metadata": {},
     "output_type": "display_data"
    }
   ],
   "source": [
    "from sklearn.metrics import confusion_matrix\n",
    "plt.figure(figsize=(6, 6))\n",
    "plot_confusion_matrix(knn_clf, X_test, y_test) \n",
    "\n",
    "plt.show()"
   ]
  },
  {
   "cell_type": "markdown",
   "id": "68481371",
   "metadata": {},
   "source": [
    "# Roc Curve "
   ]
  },
  {
   "cell_type": "code",
   "execution_count": 610,
   "id": "a2700286",
   "metadata": {},
   "outputs": [
    {
     "data": {
      "text/plain": [
       "0.8900405577543699"
      ]
     },
     "execution_count": 610,
     "metadata": {},
     "output_type": "execute_result"
    }
   ],
   "source": [
    "from sklearn.metrics import roc_curve\n",
    "from sklearn.metrics import roc_auc_score\n",
    "#Get predicted probabilites from the model\n",
    "y_probabilities = knn_clf.predict_proba(X_test)[:,1]\n",
    "#Create true and false positive rates\n",
    "false_positive_rate_knn_clf,true_positive_rate_knn_clf,threshold_knn_clf = roc_curve(y_test,y_probabilities)\n",
    "#Calculate area under the curve\n",
    "roc_auc_score(y_test,y_probabilities)"
   ]
  },
  {
   "cell_type": "code",
   "execution_count": 611,
   "id": "3cf9e03f",
   "metadata": {},
   "outputs": [
    {
     "data": {
      "image/png": "[encoded data removed]",
      "text/plain": [
       "<Figure size 720x432 with 1 Axes>"
      ]
     },
     "metadata": {},
     "output_type": "display_data"
    }
   ],
   "source": [
    "from sklearn.metrics import roc_curve\n",
    "plt.figure(figsize=(10,6))\n",
    "plt.title('Revceiver Operating Characterstic')\n",
    "plt.plot(false_positive_rate_knn_clf,true_positive_rate_knn_clf)\n",
    "plt.plot([0,1],ls='--')\n",
    "plt.plot([0,0],[1,0],c='.1')\n",
    "plt.plot([1,1],c='.1')\n",
    "plt.xlabel('False Positive Rate')\n",
    "plt.ylabel('True Positive Rate')\n",
    "plt.show()"
   ]
  },
  {
   "cell_type": "code",
   "execution_count": 612,
   "id": "cc87b6ea",
   "metadata": {
    "execution": {
     "iopub.execute_input": "2021-08-24T16:02:08.964840Z",
     "iopub.status.busy": "2021-08-24T16:02:08.963727Z",
     "iopub.status.idle": "2021-08-24T16:02:08.998194Z",
     "shell.execute_reply": "2021-08-24T16:02:08.997604Z",
     "shell.execute_reply.started": "2021-08-24T13:46:28.384111Z"
    },
    "papermill": {
     "duration": 0.21341,
     "end_time": "2021-08-24T16:02:08.998374",
     "exception": false,
     "start_time": "2021-08-24T16:02:08.784964",
     "status": "completed"
    },
    "tags": []
   },
   "outputs": [
    {
     "data": {
      "text/html": [
       "<div>\n",
       "<style scoped>\n",
       "    .dataframe tbody tr th:only-of-type {\n",
       "        vertical-align: middle;\n",
       "    }\n",
       "\n",
       "    .dataframe tbody tr th {\n",
       "        vertical-align: top;\n",
       "    }\n",
       "\n",
       "    .dataframe thead th {\n",
       "        text-align: right;\n",
       "    }\n",
       "</style>\n",
       "<table border=\"1\" class=\"dataframe\">\n",
       "  <thead>\n",
       "    <tr style=\"text-align: right;\">\n",
       "      <th></th>\n",
       "      <th>Model</th>\n",
       "      <th>Training Accuracy %</th>\n",
       "      <th>Testing Accuracy %</th>\n",
       "    </tr>\n",
       "  </thead>\n",
       "  <tbody>\n",
       "    <tr>\n",
       "      <th>0</th>\n",
       "      <td>Logistic Regression</td>\n",
       "      <td>76.98</td>\n",
       "      <td>76.14</td>\n",
       "    </tr>\n",
       "    <tr>\n",
       "      <th>1</th>\n",
       "      <td>K-nearest neighbors</td>\n",
       "      <td>88.14</td>\n",
       "      <td>81.42</td>\n",
       "    </tr>\n",
       "  </tbody>\n",
       "</table>\n",
       "</div>"
      ],
      "text/plain": [
       "                 Model  Training Accuracy %  Testing Accuracy %\n",
       "0  Logistic Regression                76.98               76.14\n",
       "1  K-nearest neighbors                88.14               81.42"
      ]
     },
     "execution_count": 612,
     "metadata": {},
     "output_type": "execute_result"
    }
   ],
   "source": [
    "test_score = accuracy_score(y_test, knn_clf.predict(X_test)) * 100\n",
    "train_score = accuracy_score(y_train, knn_clf.predict(X_train)) * 100\n",
    "\n",
    "results_df_2 = pd.DataFrame(data=[[\"K-nearest neighbors\", train_score, test_score]], \n",
    "                          columns=['Model', 'Training Accuracy %', 'Testing Accuracy %'])\n",
    "results_df = results_df.append(results_df_2, ignore_index=True)\n",
    "results_df"
   ]
  },
  {
   "cell_type": "markdown",
   "id": "8b451c60",
   "metadata": {
    "papermill": {
     "duration": 0.173561,
     "end_time": "2021-08-24T16:02:09.346576",
     "exception": false,
     "start_time": "2021-08-24T16:02:09.173015",
     "status": "completed"
    },
    "tags": []
   },
   "source": [
    "## 3. Support Vector machine"
   ]
  },
  {
   "cell_type": "code",
   "execution_count": 613,
   "id": "bf57a1c7",
   "metadata": {
    "execution": {
     "iopub.execute_input": "2021-08-24T16:02:09.713168Z",
     "iopub.status.busy": "2021-08-24T16:02:09.712394Z",
     "iopub.status.idle": "2021-08-24T16:02:09.750407Z",
     "shell.execute_reply": "2021-08-24T16:02:09.750936Z",
     "shell.execute_reply.started": "2021-08-24T13:46:28.419520Z"
    },
    "papermill": {
     "duration": 0.231153,
     "end_time": "2021-08-24T16:02:09.751168",
     "exception": false,
     "start_time": "2021-08-24T16:02:09.520015",
     "status": "completed"
    },
    "tags": []
   },
   "outputs": [
    {
     "name": "stdout",
     "output_type": "stream",
     "text": [
      "Train Result:\n",
      "================================================\n",
      "Accuracy Score: 85.03%\n",
      "_______________________________________________\n",
      "CLASSIFICATION REPORT:\n",
      "                0        1  accuracy  macro avg  weighted avg\n",
      "precision    0.65     0.93      0.85       0.79          0.86\n",
      "recall       0.77     0.87      0.85       0.82          0.85\n",
      "f1-score     0.70     0.90      0.85       0.80          0.85\n",
      "support   6855.00 22768.00      0.85   29623.00      29623.00\n",
      "_______________________________________________\n",
      "Confusion Matrix: \n",
      " [[ 5279  1576]\n",
      " [ 2859 19909]]\n",
      "\n",
      "Test Result:\n",
      "================================================\n",
      "Accuracy Score: 84.00%\n",
      "_______________________________________________\n",
      "CLASSIFICATION REPORT:\n",
      "                0       1  accuracy  macro avg  weighted avg\n",
      "precision    0.65    0.91      0.84       0.78          0.85\n",
      "recall       0.73    0.87      0.84       0.80          0.84\n",
      "f1-score     0.69    0.89      0.84       0.79          0.84\n",
      "support   1784.00 5622.00      0.84    7406.00       7406.00\n",
      "_______________________________________________\n",
      "Confusion Matrix: \n",
      " [[1309  475]\n",
      " [ 710 4912]]\n",
      "\n"
     ]
    }
   ],
   "source": [
    "from sklearn.svm import SVC\n",
    "\n",
    "svm_clf = SVC(gamma=0.1, C=1, probability=True,)\n",
    "svm_clf.fit(X_train, y_train)\n",
    "\n",
    "print_score(svm_clf, X_train, y_train, X_test, y_test, train=True)\n",
    "print_score(svm_clf, X_train, y_train, X_test, y_test, train=False)"
   ]
  },
  {
   "cell_type": "markdown",
   "metadata": {},
   "source": [
    "# Confusion Matrix"
   ]
  },
  {
   "cell_type": "code",
   "execution_count": 614,
   "metadata": {},
   "outputs": [
    {
     "name": "stderr",
     "output_type": "stream",
     "text": [
      "C:\\Users\\Md.Shakhawat Kabir\\AppData\\Roaming\\Python\\Python39\\site-packages\\sklearn\\utils\\deprecation.py:87: FutureWarning: Function plot_confusion_matrix is deprecated; Function `plot_confusion_matrix` is deprecated in 1.0 and will be removed in 1.2. Use one of the class methods: ConfusionMatrixDisplay.from_predictions or ConfusionMatrixDisplay.from_estimator.\n",
      "  warnings.warn(msg, category=FutureWarning)\n"
     ]
    },
    {
     "data": {
      "text/plain": [
       "<Figure size 432x432 with 0 Axes>"
      ]
     },
     "metadata": {},
     "output_type": "display_data"
    },
    {
     "data": {
      "image/png": "[encoded data removed]",
      "text/plain": [
       "<Figure size 432x288 with 2 Axes>"
      ]
     },
     "metadata": {},
     "output_type": "display_data"
    }
   ],
   "source": [
    "from sklearn.metrics import plot_confusion_matrix\n",
    "plt.figure(figsize=(6, 6))\n",
    "plot_confusion_matrix(svm_clf, X_train, y_train)  \n",
    "plt.show()"
   ]
  },
  {
   "cell_type": "code",
   "execution_count": 615,
   "metadata": {},
   "outputs": [
    {
     "name": "stderr",
     "output_type": "stream",
     "text": [
      "C:\\Users\\Md.Shakhawat Kabir\\AppData\\Roaming\\Python\\Python39\\site-packages\\sklearn\\utils\\deprecation.py:87: FutureWarning: Function plot_confusion_matrix is deprecated; Function `plot_confusion_matrix` is deprecated in 1.0 and will be removed in 1.2. Use one of the class methods: ConfusionMatrixDisplay.from_predictions or ConfusionMatrixDisplay.from_estimator.\n",
      "  warnings.warn(msg, category=FutureWarning)\n"
     ]
    },
    {
     "data": {
      "text/plain": [
       "<Figure size 432x432 with 0 Axes>"
      ]
     },
     "metadata": {},
     "output_type": "display_data"
    },
    {
     "data": {
      "image/png": "[encoded data removed]",
      "text/plain": [
       "<Figure size 432x288 with 2 Axes>"
      ]
     },
     "metadata": {},
     "output_type": "display_data"
    }
   ],
   "source": [
    "from sklearn.metrics import confusion_matrix\n",
    "plt.figure(figsize=(6, 6))\n",
    "plot_confusion_matrix(svm_clf, X_test, y_test) \n",
    "plt.show()"
   ]
  },
  {
   "cell_type": "markdown",
   "id": "9e4fff41",
   "metadata": {},
   "source": [
    "# Roc Curve"
   ]
  },
  {
   "cell_type": "code",
   "execution_count": 616,
   "id": "bf57a1c7",
   "metadata": {
    "execution": {
     "iopub.execute_input": "2021-08-24T16:02:09.713168Z",
     "iopub.status.busy": "2021-08-24T16:02:09.712394Z",
     "iopub.status.idle": "2021-08-24T16:02:09.750407Z",
     "shell.execute_reply": "2021-08-24T16:02:09.750936Z",
     "shell.execute_reply.started": "2021-08-24T13:46:28.419520Z"
    },
    "papermill": {
     "duration": 0.231153,
     "end_time": "2021-08-24T16:02:09.751168",
     "exception": false,
     "start_time": "2021-08-24T16:02:09.520015",
     "status": "completed"
    },
    "tags": []
   },
   "outputs": [
    {
     "data": {
      "text/plain": [
       "0.9121278234290975"
      ]
     },
     "execution_count": 616,
     "metadata": {},
     "output_type": "execute_result"
    }
   ],
   "source": [
    "from sklearn.metrics import roc_curve\n",
    "from sklearn.metrics import roc_auc_score\n",
    "#Get predicted probabilites from the model\n",
    "y_probabilities = svm_clf.predict_proba(X_test)[:,1]\n",
    "#Create true and false positive rates\n",
    "false_positive_rate_svm_clf,true_positive_rate_svm_clf,threshold_svm_clf = roc_curve(y_test,y_probabilities)\n",
    "#Calculate area under the curve\n",
    "roc_auc_score(y_test,y_probabilities)"
   ]
  },
  {
   "cell_type": "code",
   "execution_count": 617,
   "id": "79a21643",
   "metadata": {},
   "outputs": [
    {
     "data": {
      "image/png": "[encoded data removed]",
      "text/plain": [
       "<Figure size 720x432 with 1 Axes>"
      ]
     },
     "metadata": {},
     "output_type": "display_data"
    }
   ],
   "source": [
    "from sklearn.metrics import roc_curve\n",
    "plt.figure(figsize=(10,6))\n",
    "plt.title('Revceiver Operating Characterstic')\n",
    "plt.plot(false_positive_rate_svm_clf,true_positive_rate_svm_clf)\n",
    "plt.plot([0,1],ls='--')\n",
    "plt.plot([0,0],[1,0],c='.1')\n",
    "plt.plot([1,1],c='.1')\n",
    "plt.xlabel('False Positive Rate')\n",
    "plt.ylabel('True Positive Rate')\n",
    "plt.show()"
   ]
  },
  {
   "cell_type": "code",
   "execution_count": 618,
   "id": "4bb6eb09",
   "metadata": {
    "execution": {
     "iopub.execute_input": "2021-08-24T16:02:10.263024Z",
     "iopub.status.busy": "2021-08-24T16:02:10.261824Z",
     "iopub.status.idle": "2021-08-24T16:02:10.282141Z",
     "shell.execute_reply": "2021-08-24T16:02:10.281361Z",
     "shell.execute_reply.started": "2021-08-24T13:46:28.458900Z"
    },
    "papermill": {
     "duration": 0.344374,
     "end_time": "2021-08-24T16:02:10.282362",
     "exception": false,
     "start_time": "2021-08-24T16:02:09.937988",
     "status": "completed"
    },
    "tags": []
   },
   "outputs": [
    {
     "data": {
      "text/html": [
       "<div>\n",
       "<style scoped>\n",
       "    .dataframe tbody tr th:only-of-type {\n",
       "        vertical-align: middle;\n",
       "    }\n",
       "\n",
       "    .dataframe tbody tr th {\n",
       "        vertical-align: top;\n",
       "    }\n",
       "\n",
       "    .dataframe thead th {\n",
       "        text-align: right;\n",
       "    }\n",
       "</style>\n",
       "<table border=\"1\" class=\"dataframe\">\n",
       "  <thead>\n",
       "    <tr style=\"text-align: right;\">\n",
       "      <th></th>\n",
       "      <th>Model</th>\n",
       "      <th>Training Accuracy %</th>\n",
       "      <th>Testing Accuracy %</th>\n",
       "    </tr>\n",
       "  </thead>\n",
       "  <tbody>\n",
       "    <tr>\n",
       "      <th>0</th>\n",
       "      <td>Logistic Regression</td>\n",
       "      <td>76.98</td>\n",
       "      <td>76.14</td>\n",
       "    </tr>\n",
       "    <tr>\n",
       "      <th>1</th>\n",
       "      <td>K-nearest neighbors</td>\n",
       "      <td>88.14</td>\n",
       "      <td>81.42</td>\n",
       "    </tr>\n",
       "    <tr>\n",
       "      <th>2</th>\n",
       "      <td>Support Vector Machine</td>\n",
       "      <td>85.03</td>\n",
       "      <td>84.00</td>\n",
       "    </tr>\n",
       "  </tbody>\n",
       "</table>\n",
       "</div>"
      ],
      "text/plain": [
       "                    Model  Training Accuracy %  Testing Accuracy %\n",
       "0     Logistic Regression                76.98               76.14\n",
       "1     K-nearest neighbors                88.14               81.42\n",
       "2  Support Vector Machine                85.03               84.00"
      ]
     },
     "execution_count": 618,
     "metadata": {},
     "output_type": "execute_result"
    }
   ],
   "source": [
    "test_score = accuracy_score(y_test, svm_clf.predict(X_test)) * 100\n",
    "train_score = accuracy_score(y_train, svm_clf.predict(X_train)) * 100\n",
    "\n",
    "results_df_2 = pd.DataFrame(data=[[\"Support Vector Machine\", train_score, test_score]], \n",
    "                          columns=['Model', 'Training Accuracy %', 'Testing Accuracy %'])\n",
    "results_df = results_df.append(results_df_2, ignore_index=True)\n",
    "results_df"
   ]
  },
  {
   "cell_type": "markdown",
   "id": "36b06bfa",
   "metadata": {
    "papermill": {
     "duration": 0.197778,
     "end_time": "2021-08-24T16:02:10.662870",
     "exception": false,
     "start_time": "2021-08-24T16:02:10.465092",
     "status": "completed"
    },
    "tags": []
   },
   "source": [
    "## 4. Decision Tree Classifier "
   ]
  },
  {
   "cell_type": "code",
   "execution_count": 619,
   "id": "d6aebc35",
   "metadata": {
    "execution": {
     "iopub.execute_input": "2021-08-24T16:02:11.025928Z",
     "iopub.status.busy": "2021-08-24T16:02:11.025100Z",
     "iopub.status.idle": "2021-08-24T16:02:11.096111Z",
     "shell.execute_reply": "2021-08-24T16:02:11.096671Z",
     "shell.execute_reply.started": "2021-08-24T13:46:28.482065Z"
    },
    "papermill": {
     "duration": 0.253061,
     "end_time": "2021-08-24T16:02:11.096862",
     "exception": false,
     "start_time": "2021-08-24T16:02:10.843801",
     "status": "completed"
    },
    "tags": []
   },
   "outputs": [
    {
     "name": "stdout",
     "output_type": "stream",
     "text": [
      "Train Result:\n",
      "================================================\n",
      "Accuracy Score: 95.27%\n",
      "_______________________________________________\n",
      "CLASSIFICATION REPORT:\n",
      "                0        1  accuracy  macro avg  weighted avg\n",
      "precision    0.83     1.00      0.95       0.92          0.96\n",
      "recall       1.00     0.94      0.95       0.97          0.95\n",
      "f1-score     0.91     0.97      0.95       0.94          0.95\n",
      "support   6855.00 22768.00      0.95   29623.00      29623.00\n",
      "_______________________________________________\n",
      "Confusion Matrix: \n",
      " [[ 6855     0]\n",
      " [ 1402 21366]]\n",
      "\n",
      "Test Result:\n",
      "================================================\n",
      "Accuracy Score: 79.07%\n",
      "_______________________________________________\n",
      "CLASSIFICATION REPORT:\n",
      "                0       1  accuracy  macro avg  weighted avg\n",
      "precision    0.57    0.86      0.79       0.71          0.79\n",
      "recall       0.55    0.87      0.79       0.71          0.79\n",
      "f1-score     0.56    0.86      0.79       0.71          0.79\n",
      "support   1784.00 5622.00      0.79    7406.00       7406.00\n",
      "_______________________________________________\n",
      "Confusion Matrix: \n",
      " [[ 989  795]\n",
      " [ 755 4867]]\n",
      "\n"
     ]
    }
   ],
   "source": [
    "from sklearn.tree import DecisionTreeClassifier\n",
    "tree_clf = DecisionTreeClassifier()\n",
    "tree_clf.fit(X_train, y_train)\n",
    "\n",
    "print_score(tree_clf, X_train, y_train, X_test, y_test, train=True)\n",
    "print_score(tree_clf, X_train, y_train, X_test, y_test, train=False)"
   ]
  },
  {
   "cell_type": "markdown",
   "metadata": {},
   "source": [
    "# Confusion Matrix"
   ]
  },
  {
   "cell_type": "code",
   "execution_count": 620,
   "metadata": {},
   "outputs": [
    {
     "name": "stderr",
     "output_type": "stream",
     "text": [
      "C:\\Users\\Md.Shakhawat Kabir\\AppData\\Roaming\\Python\\Python39\\site-packages\\sklearn\\utils\\deprecation.py:87: FutureWarning: Function plot_confusion_matrix is deprecated; Function `plot_confusion_matrix` is deprecated in 1.0 and will be removed in 1.2. Use one of the class methods: ConfusionMatrixDisplay.from_predictions or ConfusionMatrixDisplay.from_estimator.\n",
      "  warnings.warn(msg, category=FutureWarning)\n"
     ]
    },
    {
     "data": {
      "text/plain": [
       "<Figure size 432x432 with 0 Axes>"
      ]
     },
     "metadata": {},
     "output_type": "display_data"
    },
    {
     "data": {
      "image/png": "[encoded data removed]",
      "text/plain": [
       "<Figure size 432x288 with 2 Axes>"
      ]
     },
     "metadata": {},
     "output_type": "display_data"
    }
   ],
   "source": [
    "from sklearn.metrics import plot_confusion_matrix\n",
    "plt.figure(figsize=(6, 6))\n",
    "plot_confusion_matrix(tree_clf, X_train, y_train)  \n",
    "plt.show()"
   ]
  },
  {
   "cell_type": "code",
   "execution_count": 621,
   "metadata": {},
   "outputs": [
    {
     "name": "stderr",
     "output_type": "stream",
     "text": [
      "C:\\Users\\Md.Shakhawat Kabir\\AppData\\Roaming\\Python\\Python39\\site-packages\\sklearn\\utils\\deprecation.py:87: FutureWarning: Function plot_confusion_matrix is deprecated; Function `plot_confusion_matrix` is deprecated in 1.0 and will be removed in 1.2. Use one of the class methods: ConfusionMatrixDisplay.from_predictions or ConfusionMatrixDisplay.from_estimator.\n",
      "  warnings.warn(msg, category=FutureWarning)\n"
     ]
    },
    {
     "data": {
      "text/plain": [
       "<Figure size 432x432 with 0 Axes>"
      ]
     },
     "metadata": {},
     "output_type": "display_data"
    },
    {
     "data": {
      "image/png": "[encoded data removed]",
      "text/plain": [
       "<Figure size 432x288 with 2 Axes>"
      ]
     },
     "metadata": {},
     "output_type": "display_data"
    }
   ],
   "source": [
    "from sklearn.metrics import confusion_matrix\n",
    "plt.figure(figsize=(6, 6))\n",
    "plot_confusion_matrix(tree_clf, X_test, y_test) \n",
    "plt.show()"
   ]
  },
  {
   "cell_type": "markdown",
   "id": "f0265155",
   "metadata": {},
   "source": [
    "# Roc Curve"
   ]
  },
  {
   "cell_type": "code",
   "execution_count": 622,
   "id": "462d8b3c",
   "metadata": {},
   "outputs": [
    {
     "data": {
      "text/plain": [
       "0.7079056513249518"
      ]
     },
     "execution_count": 622,
     "metadata": {},
     "output_type": "execute_result"
    }
   ],
   "source": [
    "from sklearn.metrics import roc_curve\n",
    "from sklearn.metrics import roc_auc_score\n",
    "#Get predicted probabilites from the model\n",
    "y_probabilities = tree_clf.predict_proba(X_test)[:,1]\n",
    "#Create true and false positive rates\n",
    "false_positive_rate_tree_clf,true_positive_rate_tree_clf,threshold_tree_clf = roc_curve(y_test,y_probabilities)\n",
    "#Calculate area under the curve\n",
    "roc_auc_score(y_test,y_probabilities)"
   ]
  },
  {
   "cell_type": "code",
   "execution_count": 623,
   "id": "4bee8d7d",
   "metadata": {},
   "outputs": [
    {
     "data": {
      "image/png": "[encoded data removed]",
      "text/plain": [
       "<Figure size 720x432 with 1 Axes>"
      ]
     },
     "metadata": {},
     "output_type": "display_data"
    }
   ],
   "source": [
    "from sklearn.metrics import roc_curve\n",
    "plt.figure(figsize=(10,6))\n",
    "plt.title('Revceiver Operating Characterstic')\n",
    "plt.plot(false_positive_rate_tree_clf,true_positive_rate_tree_clf)\n",
    "plt.plot([0,1],ls='--')\n",
    "plt.plot([0,0],[1,0],c='.1')\n",
    "plt.plot([1,1],c='.1')\n",
    "plt.xlabel('False Positive Rate')\n",
    "plt.ylabel('True Positive Rate')\n",
    "plt.show()"
   ]
  },
  {
   "cell_type": "code",
   "execution_count": 624,
   "id": "cb58ee3f",
   "metadata": {
    "execution": {
     "iopub.execute_input": "2021-08-24T16:02:11.455923Z",
     "iopub.status.busy": "2021-08-24T16:02:11.452435Z",
     "iopub.status.idle": "2021-08-24T16:02:11.470725Z",
     "shell.execute_reply": "2021-08-24T16:02:11.470096Z",
     "shell.execute_reply.started": "2021-08-24T13:46:28.538212Z"
    },
    "papermill": {
     "duration": 0.200876,
     "end_time": "2021-08-24T16:02:11.470889",
     "exception": false,
     "start_time": "2021-08-24T16:02:11.270013",
     "status": "completed"
    },
    "tags": []
   },
   "outputs": [
    {
     "data": {
      "text/html": [
       "<div>\n",
       "<style scoped>\n",
       "    .dataframe tbody tr th:only-of-type {\n",
       "        vertical-align: middle;\n",
       "    }\n",
       "\n",
       "    .dataframe tbody tr th {\n",
       "        vertical-align: top;\n",
       "    }\n",
       "\n",
       "    .dataframe thead th {\n",
       "        text-align: right;\n",
       "    }\n",
       "</style>\n",
       "<table border=\"1\" class=\"dataframe\">\n",
       "  <thead>\n",
       "    <tr style=\"text-align: right;\">\n",
       "      <th></th>\n",
       "      <th>Model</th>\n",
       "      <th>Training Accuracy %</th>\n",
       "      <th>Testing Accuracy %</th>\n",
       "    </tr>\n",
       "  </thead>\n",
       "  <tbody>\n",
       "    <tr>\n",
       "      <th>0</th>\n",
       "      <td>Logistic Regression</td>\n",
       "      <td>76.98</td>\n",
       "      <td>76.14</td>\n",
       "    </tr>\n",
       "    <tr>\n",
       "      <th>1</th>\n",
       "      <td>K-nearest neighbors</td>\n",
       "      <td>88.14</td>\n",
       "      <td>81.42</td>\n",
       "    </tr>\n",
       "    <tr>\n",
       "      <th>2</th>\n",
       "      <td>Support Vector Machine</td>\n",
       "      <td>85.03</td>\n",
       "      <td>84.00</td>\n",
       "    </tr>\n",
       "    <tr>\n",
       "      <th>3</th>\n",
       "      <td>Decision Tree Classifier</td>\n",
       "      <td>95.27</td>\n",
       "      <td>79.07</td>\n",
       "    </tr>\n",
       "  </tbody>\n",
       "</table>\n",
       "</div>"
      ],
      "text/plain": [
       "                      Model  Training Accuracy %  Testing Accuracy %\n",
       "0       Logistic Regression                76.98               76.14\n",
       "1       K-nearest neighbors                88.14               81.42\n",
       "2    Support Vector Machine                85.03               84.00\n",
       "3  Decision Tree Classifier                95.27               79.07"
      ]
     },
     "execution_count": 624,
     "metadata": {},
     "output_type": "execute_result"
    }
   ],
   "source": [
    "test_score = accuracy_score(y_test, tree_clf.predict(X_test)) * 100\n",
    "train_score = accuracy_score(y_train, tree_clf.predict(X_train)) * 100\n",
    "\n",
    "results_df_2 = pd.DataFrame(data=[[\"Decision Tree Classifier\", train_score, test_score]], \n",
    "                          columns=['Model', 'Training Accuracy %', 'Testing Accuracy %'])\n",
    "results_df = results_df.append(results_df_2, ignore_index=True)\n",
    "results_df"
   ]
  },
  {
   "cell_type": "markdown",
   "id": "fdaec79e",
   "metadata": {
    "papermill": {
     "duration": 0.190366,
     "end_time": "2021-08-24T16:02:11.840988",
     "exception": false,
     "start_time": "2021-08-24T16:02:11.650622",
     "status": "completed"
    },
    "tags": []
   },
   "source": [
    "## 5. Random Forest"
   ]
  },
  {
   "cell_type": "code",
   "execution_count": 625,
   "id": "baedd2db",
   "metadata": {
    "execution": {
     "iopub.execute_input": "2021-08-24T16:02:12.213966Z",
     "iopub.status.busy": "2021-08-24T16:02:12.213008Z",
     "iopub.status.idle": "2021-08-24T16:02:14.482729Z",
     "shell.execute_reply": "2021-08-24T16:02:14.481861Z",
     "shell.execute_reply.started": "2021-08-24T13:46:28.557897Z"
    },
    "papermill": {
     "duration": 2.459873,
     "end_time": "2021-08-24T16:02:14.482946",
     "exception": false,
     "start_time": "2021-08-24T16:02:12.023073",
     "status": "completed"
    },
    "tags": []
   },
   "outputs": [
    {
     "name": "stdout",
     "output_type": "stream",
     "text": [
      "Train Result:\n",
      "================================================\n",
      "Accuracy Score: 95.27%\n",
      "_______________________________________________\n",
      "CLASSIFICATION REPORT:\n",
      "                0        1  accuracy  macro avg  weighted avg\n",
      "precision    0.88     0.98      0.95       0.93          0.95\n",
      "recall       0.92     0.96      0.95       0.94          0.95\n",
      "f1-score     0.90     0.97      0.95       0.93          0.95\n",
      "support   6855.00 22768.00      0.95   29623.00      29623.00\n",
      "_______________________________________________\n",
      "Confusion Matrix: \n",
      " [[ 6315   540]\n",
      " [  862 21906]]\n",
      "\n",
      "Test Result:\n",
      "================================================\n",
      "Accuracy Score: 79.44%\n",
      "_______________________________________________\n",
      "CLASSIFICATION REPORT:\n",
      "                0       1  accuracy  macro avg  weighted avg\n",
      "precision    0.58    0.86      0.79       0.72          0.79\n",
      "recall       0.56    0.87      0.79       0.71          0.79\n",
      "f1-score     0.57    0.87      0.79       0.72          0.79\n",
      "support   1784.00 5622.00      0.79    7406.00       7406.00\n",
      "_______________________________________________\n",
      "Confusion Matrix: \n",
      " [[ 993  791]\n",
      " [ 732 4890]]\n",
      "\n"
     ]
    }
   ],
   "source": [
    "from sklearn.ensemble import RandomForestClassifier\n",
    "rf_clf = RandomForestClassifier()\n",
    "rf_clf.fit(X_train, y_train)\n",
    "\n",
    "print_score(rf_clf, X_train, y_train, X_test, y_test, train=True)\n",
    "print_score(rf_clf, X_train, y_train, X_test, y_test, train=False)"
   ]
  },
  {
   "cell_type": "markdown",
   "metadata": {},
   "source": [
    "# Confusion Matrix"
   ]
  },
  {
   "cell_type": "code",
   "execution_count": 626,
   "metadata": {},
   "outputs": [
    {
     "name": "stderr",
     "output_type": "stream",
     "text": [
      "C:\\Users\\Md.Shakhawat Kabir\\AppData\\Roaming\\Python\\Python39\\site-packages\\sklearn\\utils\\deprecation.py:87: FutureWarning: Function plot_confusion_matrix is deprecated; Function `plot_confusion_matrix` is deprecated in 1.0 and will be removed in 1.2. Use one of the class methods: ConfusionMatrixDisplay.from_predictions or ConfusionMatrixDisplay.from_estimator.\n",
      "  warnings.warn(msg, category=FutureWarning)\n"
     ]
    },
    {
     "data": {
      "text/plain": [
       "<Figure size 432x432 with 0 Axes>"
      ]
     },
     "metadata": {},
     "output_type": "display_data"
    },
    {
     "data": {
      "image/png": "[encoded data removed]",
      "text/plain": [
       "<Figure size 432x288 with 2 Axes>"
      ]
     },
     "metadata": {},
     "output_type": "display_data"
    }
   ],
   "source": [
    "from sklearn.metrics import plot_confusion_matrix\n",
    "plt.figure(figsize=(6, 6))\n",
    "plot_confusion_matrix(rf_clf, X_train, y_train)  \n",
    "plt.show()"
   ]
  },
  {
   "cell_type": "code",
   "execution_count": 627,
   "metadata": {},
   "outputs": [
    {
     "name": "stderr",
     "output_type": "stream",
     "text": [
      "C:\\Users\\Md.Shakhawat Kabir\\AppData\\Roaming\\Python\\Python39\\site-packages\\sklearn\\utils\\deprecation.py:87: FutureWarning: Function plot_confusion_matrix is deprecated; Function `plot_confusion_matrix` is deprecated in 1.0 and will be removed in 1.2. Use one of the class methods: ConfusionMatrixDisplay.from_predictions or ConfusionMatrixDisplay.from_estimator.\n",
      "  warnings.warn(msg, category=FutureWarning)\n"
     ]
    },
    {
     "data": {
      "text/plain": [
       "<Figure size 432x432 with 0 Axes>"
      ]
     },
     "metadata": {},
     "output_type": "display_data"
    },
    {
     "data": {
      "image/png": "[encoded data removed]",
      "text/plain": [
       "<Figure size 432x288 with 2 Axes>"
      ]
     },
     "metadata": {},
     "output_type": "display_data"
    }
   ],
   "source": [
    "from sklearn.metrics import confusion_matrix\n",
    "plt.figure(figsize=(6, 6))\n",
    "plot_confusion_matrix(rf_clf, X_test, y_test) \n",
    "plt.show()"
   ]
  },
  {
   "cell_type": "markdown",
   "id": "b7daffdb",
   "metadata": {},
   "source": [
    "# Roc Curve"
   ]
  },
  {
   "cell_type": "code",
   "execution_count": 628,
   "id": "084b23b6",
   "metadata": {},
   "outputs": [
    {
     "data": {
      "text/plain": [
       "0.8881705020953875"
      ]
     },
     "execution_count": 628,
     "metadata": {},
     "output_type": "execute_result"
    }
   ],
   "source": [
    "from sklearn.metrics import roc_curve\n",
    "from sklearn.metrics import roc_auc_score\n",
    "#Get predicted probabilites from the model\n",
    "y_probabilities = rf_clf.predict_proba(X_test)[:,1]\n",
    "#Create true and false positive rates\n",
    "false_positive_rate_rf_clf,true_positive_rate_rf_clf,threshold_rf_clf = roc_curve(y_test,y_probabilities)\n",
    "#Calculate area under the curve\n",
    "roc_auc_score(y_test,y_probabilities)"
   ]
  },
  {
   "cell_type": "code",
   "execution_count": 629,
   "id": "682dd7b1",
   "metadata": {},
   "outputs": [
    {
     "data": {
      "image/png": "[encoded data removed]",
      "text/plain": [
       "<Figure size 720x432 with 1 Axes>"
      ]
     },
     "metadata": {},
     "output_type": "display_data"
    }
   ],
   "source": [
    "from sklearn.metrics import roc_curve\n",
    "plt.figure(figsize=(10,6))\n",
    "plt.title('Revceiver Operating Characterstic')\n",
    "plt.plot(false_positive_rate_rf_clf,true_positive_rate_rf_clf)\n",
    "plt.plot([0,1],ls='--')\n",
    "plt.plot([0,0],[1,0],c='.1')\n",
    "plt.plot([1,1],c='.1')\n",
    "plt.xlabel('False Positive Rate')\n",
    "plt.ylabel('True Positive Rate')\n",
    "plt.show()"
   ]
  },
  {
   "cell_type": "code",
   "execution_count": 630,
   "id": "6d6f7f15",
   "metadata": {
    "execution": {
     "iopub.execute_input": "2021-08-24T16:02:14.867359Z",
     "iopub.status.busy": "2021-08-24T16:02:14.866204Z",
     "iopub.status.idle": "2021-08-24T16:02:15.102477Z",
     "shell.execute_reply": "2021-08-24T16:02:15.101728Z",
     "shell.execute_reply.started": "2021-08-24T13:46:30.711610Z"
    },
    "papermill": {
     "duration": 0.428972,
     "end_time": "2021-08-24T16:02:15.102648",
     "exception": false,
     "start_time": "2021-08-24T16:02:14.673676",
     "status": "completed"
    },
    "tags": []
   },
   "outputs": [
    {
     "data": {
      "text/html": [
       "<div>\n",
       "<style scoped>\n",
       "    .dataframe tbody tr th:only-of-type {\n",
       "        vertical-align: middle;\n",
       "    }\n",
       "\n",
       "    .dataframe tbody tr th {\n",
       "        vertical-align: top;\n",
       "    }\n",
       "\n",
       "    .dataframe thead th {\n",
       "        text-align: right;\n",
       "    }\n",
       "</style>\n",
       "<table border=\"1\" class=\"dataframe\">\n",
       "  <thead>\n",
       "    <tr style=\"text-align: right;\">\n",
       "      <th></th>\n",
       "      <th>Model</th>\n",
       "      <th>Training Accuracy %</th>\n",
       "      <th>Testing Accuracy %</th>\n",
       "    </tr>\n",
       "  </thead>\n",
       "  <tbody>\n",
       "    <tr>\n",
       "      <th>0</th>\n",
       "      <td>Logistic Regression</td>\n",
       "      <td>76.98</td>\n",
       "      <td>76.14</td>\n",
       "    </tr>\n",
       "    <tr>\n",
       "      <th>1</th>\n",
       "      <td>K-nearest neighbors</td>\n",
       "      <td>88.14</td>\n",
       "      <td>81.42</td>\n",
       "    </tr>\n",
       "    <tr>\n",
       "      <th>2</th>\n",
       "      <td>Support Vector Machine</td>\n",
       "      <td>85.03</td>\n",
       "      <td>84.00</td>\n",
       "    </tr>\n",
       "    <tr>\n",
       "      <th>3</th>\n",
       "      <td>Decision Tree Classifier</td>\n",
       "      <td>95.27</td>\n",
       "      <td>79.07</td>\n",
       "    </tr>\n",
       "    <tr>\n",
       "      <th>4</th>\n",
       "      <td>Random Forest Classifier</td>\n",
       "      <td>95.27</td>\n",
       "      <td>79.44</td>\n",
       "    </tr>\n",
       "  </tbody>\n",
       "</table>\n",
       "</div>"
      ],
      "text/plain": [
       "                      Model  Training Accuracy %  Testing Accuracy %\n",
       "0       Logistic Regression                76.98               76.14\n",
       "1       K-nearest neighbors                88.14               81.42\n",
       "2    Support Vector Machine                85.03               84.00\n",
       "3  Decision Tree Classifier                95.27               79.07\n",
       "4  Random Forest Classifier                95.27               79.44"
      ]
     },
     "execution_count": 630,
     "metadata": {},
     "output_type": "execute_result"
    }
   ],
   "source": [
    "test_score = accuracy_score(y_test, rf_clf.predict(X_test)) * 100\n",
    "train_score = accuracy_score(y_train, rf_clf.predict(X_train)) * 100\n",
    "\n",
    "results_df_2 = pd.DataFrame(data=[[\"Random Forest Classifier\", train_score, test_score]], \n",
    "                          columns=['Model', 'Training Accuracy %', 'Testing Accuracy %'])\n",
    "results_df = results_df.append(results_df_2, ignore_index=True)\n",
    "results_df"
   ]
  },
  {
   "cell_type": "markdown",
   "id": "e8bf1eb7",
   "metadata": {
    "papermill": {
     "duration": 0.185512,
     "end_time": "2021-08-24T16:02:15.475334",
     "exception": false,
     "start_time": "2021-08-24T16:02:15.289822",
     "status": "completed"
    },
    "tags": []
   },
   "source": [
    "## 6. XGBoost Classifer"
   ]
  },
  {
   "cell_type": "code",
   "execution_count": 631,
   "id": "4464c49a",
   "metadata": {
    "execution": {
     "iopub.execute_input": "2021-08-24T16:02:15.857637Z",
     "iopub.status.busy": "2021-08-24T16:02:15.856715Z",
     "iopub.status.idle": "2021-08-24T16:02:16.096072Z",
     "shell.execute_reply": "2021-08-24T16:02:16.096593Z",
     "shell.execute_reply.started": "2021-08-24T13:46:30.934983Z"
    },
    "papermill": {
     "duration": 0.435175,
     "end_time": "2021-08-24T16:02:16.096833",
     "exception": false,
     "start_time": "2021-08-24T16:02:15.661658",
     "status": "completed"
    },
    "tags": []
   },
   "outputs": [
    {
     "name": "stderr",
     "output_type": "stream",
     "text": [
      "C:\\Users\\Md.Shakhawat Kabir\\AppData\\Roaming\\Python\\Python39\\site-packages\\xgboost\\sklearn.py:1224: UserWarning: The use of label encoder in XGBClassifier is deprecated and will be removed in a future release. To remove this warning, do the following: 1) Pass option use_label_encoder=False when constructing XGBClassifier object; and 2) Encode your labels (y) as integers starting with 0, i.e. 0, 1, 2, ..., [num_class - 1].\n",
      "  warnings.warn(label_encoder_deprecation_msg, UserWarning)\n"
     ]
    },
    {
     "name": "stdout",
     "output_type": "stream",
     "text": [
      "[13:25:41] WARNING: C:/Users/Administrator/workspace/xgboost-win64_release_1.5.0/src/learner.cc:1115: Starting in XGBoost 1.3.0, the default evaluation metric used with the objective 'binary:logistic' was changed from 'error' to 'logloss'. Explicitly set eval_metric if you'd like to restore the old behavior.\n",
      "Train Result:\n",
      "================================================\n",
      "Accuracy Score: 88.61%\n",
      "_______________________________________________\n",
      "CLASSIFICATION REPORT:\n",
      "                0        1  accuracy  macro avg  weighted avg\n",
      "precision    0.70     0.96      0.89       0.83          0.90\n",
      "recall       0.88     0.89      0.89       0.89          0.89\n",
      "f1-score     0.78     0.92      0.89       0.85          0.89\n",
      "support   6855.00 22768.00      0.89   29623.00      29623.00\n",
      "_______________________________________________\n",
      "Confusion Matrix: \n",
      " [[ 6064   791]\n",
      " [ 2583 20185]]\n",
      "\n",
      "Test Result:\n",
      "================================================\n",
      "Accuracy Score: 84.89%\n",
      "_______________________________________________\n",
      "CLASSIFICATION REPORT:\n",
      "                0       1  accuracy  macro avg  weighted avg\n",
      "precision    0.66    0.92      0.85       0.79          0.86\n",
      "recall       0.77    0.87      0.85       0.82          0.85\n",
      "f1-score     0.71    0.90      0.85       0.80          0.85\n",
      "support   1784.00 5622.00      0.85    7406.00       7406.00\n",
      "_______________________________________________\n",
      "Confusion Matrix: \n",
      " [[1374  410]\n",
      " [ 709 4913]]\n",
      "\n"
     ]
    }
   ],
   "source": [
    "from xgboost import XGBClassifier\n",
    "\n",
    "xgb_clf = XGBClassifier()\n",
    "xgb_clf.fit(X_train, y_train)\n",
    "\n",
    "print_score(xgb_clf, X_train, y_train, X_test, y_test, train=True)\n",
    "print_score(xgb_clf, X_train, y_train, X_test, y_test, train=False)"
   ]
  },
  {
   "cell_type": "markdown",
   "metadata": {},
   "source": [
    "# Confusion Matrix"
   ]
  },
  {
   "cell_type": "code",
   "execution_count": 632,
   "metadata": {},
   "outputs": [
    {
     "name": "stderr",
     "output_type": "stream",
     "text": [
      "C:\\Users\\Md.Shakhawat Kabir\\AppData\\Roaming\\Python\\Python39\\site-packages\\sklearn\\utils\\deprecation.py:87: FutureWarning: Function plot_confusion_matrix is deprecated; Function `plot_confusion_matrix` is deprecated in 1.0 and will be removed in 1.2. Use one of the class methods: ConfusionMatrixDisplay.from_predictions or ConfusionMatrixDisplay.from_estimator.\n",
      "  warnings.warn(msg, category=FutureWarning)\n"
     ]
    },
    {
     "data": {
      "text/plain": [
       "<Figure size 432x432 with 0 Axes>"
      ]
     },
     "metadata": {},
     "output_type": "display_data"
    },
    {
     "data": {
      "image/png": "[encoded data removed]",
      "text/plain": [
       "<Figure size 432x288 with 2 Axes>"
      ]
     },
     "metadata": {},
     "output_type": "display_data"
    }
   ],
   "source": [
    "from sklearn.metrics import plot_confusion_matrix\n",
    "plt.figure(figsize=(6, 6))\n",
    "plot_confusion_matrix(xgb_clf, X_train, y_train)  \n",
    "plt.show()"
   ]
  },
  {
   "cell_type": "code",
   "execution_count": 633,
   "metadata": {},
   "outputs": [
    {
     "name": "stderr",
     "output_type": "stream",
     "text": [
      "C:\\Users\\Md.Shakhawat Kabir\\AppData\\Roaming\\Python\\Python39\\site-packages\\sklearn\\utils\\deprecation.py:87: FutureWarning: Function plot_confusion_matrix is deprecated; Function `plot_confusion_matrix` is deprecated in 1.0 and will be removed in 1.2. Use one of the class methods: ConfusionMatrixDisplay.from_predictions or ConfusionMatrixDisplay.from_estimator.\n",
      "  warnings.warn(msg, category=FutureWarning)\n"
     ]
    },
    {
     "data": {
      "text/plain": [
       "<Figure size 432x432 with 0 Axes>"
      ]
     },
     "metadata": {},
     "output_type": "display_data"
    },
    {
     "data": {
      "image/png": "[encoded data removed]",
      "text/plain": [
       "<Figure size 432x288 with 2 Axes>"
      ]
     },
     "metadata": {},
     "output_type": "display_data"
    }
   ],
   "source": [
    "from sklearn.metrics import confusion_matrix\n",
    "plt.figure(figsize=(6, 6))\n",
    "plot_confusion_matrix(xgb_clf, X_test, y_test) \n",
    "plt.show()"
   ]
  },
  {
   "cell_type": "markdown",
   "id": "b7daffdb",
   "metadata": {},
   "source": [
    "# Roc Curve"
   ]
  },
  {
   "cell_type": "code",
   "execution_count": 634,
   "id": "88a865e8",
   "metadata": {},
   "outputs": [
    {
     "data": {
      "text/plain": [
       "0.9221103273016161"
      ]
     },
     "execution_count": 634,
     "metadata": {},
     "output_type": "execute_result"
    }
   ],
   "source": [
    "from sklearn.metrics import roc_curve\n",
    "from sklearn.metrics import roc_auc_score\n",
    "#Get predicted probabilites from the model\n",
    "y_probabilities = xgb_clf.predict_proba(X_test)[:,1]\n",
    "#Create true and false positive rates\n",
    "false_positive_rate_xgb_clf,true_positive_rate_xgb_clf,threshold_xgb_clf = roc_curve(y_test,y_probabilities)\n",
    "#Calculate area under the curve\n",
    "roc_auc_score(y_test,y_probabilities)"
   ]
  },
  {
   "cell_type": "code",
   "execution_count": 635,
   "id": "dde0a5ff",
   "metadata": {},
   "outputs": [
    {
     "data": {
      "image/png": "[encoded data removed]",
      "text/plain": [
       "<Figure size 720x432 with 1 Axes>"
      ]
     },
     "metadata": {},
     "output_type": "display_data"
    }
   ],
   "source": [
    "from sklearn.metrics import roc_curve\n",
    "plt.figure(figsize=(10,6))\n",
    "plt.title('Revceiver Operating Characterstic')\n",
    "plt.plot(false_positive_rate_xgb_clf,true_positive_rate_xgb_clf)\n",
    "plt.plot([0,1],ls='--')\n",
    "plt.plot([0,0],[1,0],c='.1')\n",
    "plt.plot([1,1],c='.1')\n",
    "plt.xlabel('False Positive Rate')\n",
    "plt.ylabel('True Positive Rate')\n",
    "plt.show()"
   ]
  },
  {
   "cell_type": "code",
   "execution_count": 636,
   "id": "a0b28293",
   "metadata": {
    "execution": {
     "iopub.execute_input": "2021-08-24T16:02:16.475818Z",
     "iopub.status.busy": "2021-08-24T16:02:16.474763Z",
     "iopub.status.idle": "2021-08-24T16:02:16.499075Z",
     "shell.execute_reply": "2021-08-24T16:02:16.499679Z",
     "shell.execute_reply.started": "2021-08-24T13:46:31.110792Z"
    },
    "papermill": {
     "duration": 0.215967,
     "end_time": "2021-08-24T16:02:16.499916",
     "exception": false,
     "start_time": "2021-08-24T16:02:16.283949",
     "status": "completed"
    },
    "tags": []
   },
   "outputs": [
    {
     "data": {
      "text/html": [
       "<div>\n",
       "<style scoped>\n",
       "    .dataframe tbody tr th:only-of-type {\n",
       "        vertical-align: middle;\n",
       "    }\n",
       "\n",
       "    .dataframe tbody tr th {\n",
       "        vertical-align: top;\n",
       "    }\n",
       "\n",
       "    .dataframe thead th {\n",
       "        text-align: right;\n",
       "    }\n",
       "</style>\n",
       "<table border=\"1\" class=\"dataframe\">\n",
       "  <thead>\n",
       "    <tr style=\"text-align: right;\">\n",
       "      <th></th>\n",
       "      <th>Model</th>\n",
       "      <th>Training Accuracy %</th>\n",
       "      <th>Testing Accuracy %</th>\n",
       "    </tr>\n",
       "  </thead>\n",
       "  <tbody>\n",
       "    <tr>\n",
       "      <th>0</th>\n",
       "      <td>Logistic Regression</td>\n",
       "      <td>76.98</td>\n",
       "      <td>76.14</td>\n",
       "    </tr>\n",
       "    <tr>\n",
       "      <th>1</th>\n",
       "      <td>K-nearest neighbors</td>\n",
       "      <td>88.14</td>\n",
       "      <td>81.42</td>\n",
       "    </tr>\n",
       "    <tr>\n",
       "      <th>2</th>\n",
       "      <td>Support Vector Machine</td>\n",
       "      <td>85.03</td>\n",
       "      <td>84.00</td>\n",
       "    </tr>\n",
       "    <tr>\n",
       "      <th>3</th>\n",
       "      <td>Decision Tree Classifier</td>\n",
       "      <td>95.27</td>\n",
       "      <td>79.07</td>\n",
       "    </tr>\n",
       "    <tr>\n",
       "      <th>4</th>\n",
       "      <td>Random Forest Classifier</td>\n",
       "      <td>95.27</td>\n",
       "      <td>79.44</td>\n",
       "    </tr>\n",
       "    <tr>\n",
       "      <th>5</th>\n",
       "      <td>XGBoost Classifier</td>\n",
       "      <td>88.61</td>\n",
       "      <td>84.89</td>\n",
       "    </tr>\n",
       "  </tbody>\n",
       "</table>\n",
       "</div>"
      ],
      "text/plain": [
       "                      Model  Training Accuracy %  Testing Accuracy %\n",
       "0       Logistic Regression                76.98               76.14\n",
       "1       K-nearest neighbors                88.14               81.42\n",
       "2    Support Vector Machine                85.03               84.00\n",
       "3  Decision Tree Classifier                95.27               79.07\n",
       "4  Random Forest Classifier                95.27               79.44\n",
       "5        XGBoost Classifier                88.61               84.89"
      ]
     },
     "execution_count": 636,
     "metadata": {},
     "output_type": "execute_result"
    }
   ],
   "source": [
    "test_score = accuracy_score(y_test, xgb_clf.predict(X_test)) * 100\n",
    "train_score = accuracy_score(y_train, xgb_clf.predict(X_train)) * 100\n",
    "\n",
    "results_df_2 = pd.DataFrame(data=[[\"XGBoost Classifier\", train_score, test_score]], \n",
    "                          columns=['Model', 'Training Accuracy %', 'Testing Accuracy %'])\n",
    "results_df = results_df.append(results_df_2, ignore_index=True)\n",
    "results_df"
   ]
  },
  {
   "cell_type": "markdown",
   "id": "16235fc4",
   "metadata": {},
   "source": [
    "# **Comparing ROC Curve of k-Nearest Neighbors, Logistic Regression and Decision Tree**"
   ]
  },
  {
   "cell_type": "code",
   "execution_count": 637,
   "id": "7c217765",
   "metadata": {},
   "outputs": [
    {
     "data": {
      "image/png": "[encoded data removed]",
      "text/plain": [
       "<Figure size 720x432 with 1 Axes>"
      ]
     },
     "metadata": {},
     "output_type": "display_data"
    }
   ],
   "source": [
    "#Plot ROC Curve\n",
    "sns.set_style('whitegrid')\n",
    "plt.figure(figsize=(10,6))\n",
    "plt.title('Reciver Operating Characterstic Curve')\n",
    "\n",
    "plt.plot(false_positive_rate_lr_clf,true_positive_rate_lr_clf,label='Logistic Regression')\n",
    "plt.plot(false_positive_rate_knn_clf,true_positive_rate_knn_clf,label='k-Nearest Neighbor')\n",
    "plt.plot(false_positive_rate_svm_clf,true_positive_rate_svm_clf,label='Support Vector Machine')\n",
    "plt.plot(false_positive_rate_tree_clf,true_positive_rate_tree_clf,label='Decision Tree Classifier')\n",
    "plt.plot(false_positive_rate_rf_clf,true_positive_rate_rf_clf,label='Random Forest Classifier')\n",
    "plt.plot(false_positive_rate_xgb_clf,true_positive_rate_xgb_clf,label='XGBoost Classifier')\n",
    "\n",
    "plt.plot([0,1],ls='--',)\n",
    "plt.plot([0,0],[1,0],c='.1')\n",
    "plt.plot([1,1],c='.1')\n",
    "plt.ylabel('True positive rate')\n",
    "plt.xlabel('False positive rate')\n",
    "plt.legend()\n",
    "plt.show()"
   ]
  }
 ],
 "metadata": {
  "interpreter": {
   "hash": "ac59ebe37160ed0dfa835113d9b8498d9f09ceb179beaac4002f036b9467c963"
  },
  "kernelspec": {
   "display_name": "Python 3.9.8 64-bit",
   "language": "python",
   "name": "python3"
  },
  "language_info": {
   "codemirror_mode": {
    "name": "ipython",
    "version": 3
   },
   "file_extension": ".py",
   "mimetype": "text/x-python",
   "name": "python",
   "nbconvert_exporter": "python",
   "pygments_lexer": "ipython3",
   "version": "3.9.8"
  },
  "orig_nbformat": 4
 },
 "nbformat": 4,
 "nbformat_minor": 2
}
